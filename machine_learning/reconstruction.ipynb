{
 "cells": [
  {
   "cell_type": "markdown",
   "metadata": {},
   "source": [
    "# Healthy Control"
   ]
  },
  {
   "cell_type": "code",
   "execution_count": 1,
   "metadata": {},
   "outputs": [],
   "source": [
    "def flatten_HC(subject_list):\n",
    "    from nilearn.masking import apply_mask\n",
    "    import numpy as np\n",
    "    import pandas as pd\n",
    "    from nilearn.image import load_img\n",
    "    from nilearn.image import new_img_like\n",
    "\n",
    "    fmri_img = '/data/EFAT/EFAT_output/HC/datasink/1stLevel/sub-005/fwhm-8/con_0007.nii'\n",
    "    ROI = load_img('/data/EFAT/anxiety_association-test_z_FDR_0.01-interp.nii').get_data().astype(bool)\n",
    "    ROI = new_img_like(fmri_img, ROI.astype(np.int))\n",
    "    \n",
    "    mask_img = ROI\n",
    "    \n",
    "    flattened = []\n",
    "    for i in subject_list:\n",
    "        func_filename = ('/data/EFAT/EFAT_output/HC/datasink/1stLevel/sub-%s/fwhm-8/con_0007.nii' % i)\n",
    "        \n",
    "        masked_data = apply_mask(func_filename, mask_img)\n",
    "        flattened.append(masked_data)\n",
    "        \n",
    "    return flattened"
   ]
  },
  {
   "cell_type": "code",
   "execution_count": 2,
   "metadata": {},
   "outputs": [],
   "source": [
    "subject_HC = ['005', '006', '007', \n",
    "                   '010', '013', '014', '015', \n",
    "                   '019', '021', '022', '025', \n",
    "                   '026', '029', '032', '034', \n",
    "                   '036', '039', '041', \n",
    "                   '045', '050', \n",
    "                   '055', '056', '058', '059']"
   ]
  },
  {
   "cell_type": "code",
   "execution_count": 3,
   "metadata": {},
   "outputs": [
    {
     "name": "stderr",
     "output_type": "stream",
     "text": [
      "/home/soyeon/anaconda3/lib/python3.6/site-packages/h5py/__init__.py:36: FutureWarning: Conversion of the second argument of issubdtype from `float` to `np.floating` is deprecated. In future, it will be treated as `np.float64 == np.dtype(float).type`.\n",
      "  from ._conv import register_converters as _register_converters\n"
     ]
    },
    {
     "data": {
      "text/plain": [
       "matrix([[ 0.06765573,  0.04926062,  0.03387223, ...,  0.23089176,\n",
       "          0.22814202,  0.21659723],\n",
       "        [ 0.31400055,  0.29057258,  0.2498604 , ...,  1.1762837 ,\n",
       "          1.1000488 ,  1.025689  ],\n",
       "        [-0.05964667, -0.10469085, -0.1519965 , ..., -0.20918335,\n",
       "         -0.23407573, -0.2606703 ],\n",
       "        ...,\n",
       "        [-0.3475198 , -0.3026061 , -0.2471168 , ...,  0.07291843,\n",
       "          0.084618  ,  0.10183343],\n",
       "        [ 0.06647748,  0.05595124,  0.04931122, ...,  0.210969  ,\n",
       "          0.25720558,  0.31282547],\n",
       "        [ 0.18350232,  0.18928492,  0.19415802, ...,  0.11630442,\n",
       "          0.11147629,  0.10867966]], dtype=float32)"
      ]
     },
     "execution_count": 3,
     "metadata": {},
     "output_type": "execute_result"
    }
   ],
   "source": [
    "import numpy as np\n",
    "A = np.asmatrix(flatten_HC(subject_HC))\n",
    "A"
   ]
  },
  {
   "cell_type": "code",
   "execution_count": 4,
   "metadata": {},
   "outputs": [
    {
     "data": {
      "text/plain": [
       "(24, 20960)"
      ]
     },
     "execution_count": 4,
     "metadata": {},
     "output_type": "execute_result"
    }
   ],
   "source": [
    "A.shape"
   ]
  },
  {
   "cell_type": "code",
   "execution_count": 5,
   "metadata": {},
   "outputs": [],
   "source": [
    "%matplotlib inline"
   ]
  },
  {
   "cell_type": "code",
   "execution_count": 6,
   "metadata": {},
   "outputs": [
    {
     "data": {
      "text/plain": [
       "<function matplotlib.pyplot.show(*args, **kw)>"
      ]
     },
     "execution_count": 6,
     "metadata": {},
     "output_type": "execute_result"
    },
    {
     "data": {
      "image/png": "[encoded data removed]",
      "text/plain": [
       "<Figure size 432x288 with 1 Axes>"
      ]
     },
     "metadata": {},
     "output_type": "display_data"
    }
   ],
   "source": [
    "import matplotlib.pyplot as plt\n",
    "\n",
    "plt.imshow(A, aspect='auto')\n",
    "plt.show"
   ]
  },
  {
   "cell_type": "markdown",
   "metadata": {},
   "source": [
    "# Patient Group"
   ]
  },
  {
   "cell_type": "code",
   "execution_count": 7,
   "metadata": {},
   "outputs": [],
   "source": [
    "def flatten_PT(subject_list):\n",
    "    from nilearn.masking import apply_mask\n",
    "    import numpy as np\n",
    "    import pandas as pd\n",
    "    from nilearn.image import load_img\n",
    "    from nilearn.image import new_img_like\n",
    "\n",
    "    fmri_img = '/data/EFAT/EFAT_output/HC/datasink/1stLevel/sub-005/fwhm-8/con_0007.nii'\n",
    "    ROI = load_img('/data/EFAT/anxiety_association-test_z_FDR_0.01-interp.nii').get_data().astype(bool)\n",
    "    ROI = new_img_like(fmri_img, ROI.astype(np.int))\n",
    "    \n",
    "    mask_img = ROI\n",
    "    \n",
    "    flattened = []\n",
    "    for i in subject_list:\n",
    "        func_filename = ('/data/EFAT/EFAT_output/PT/datasink/1stLevel/sub-%s/fwhm-8/con_0007.nii' % i)\n",
    "        \n",
    "        masked_data = apply_mask(func_filename, mask_img)\n",
    "        flattened.append(masked_data)\n",
    "        \n",
    "    return flattened"
   ]
  },
  {
   "cell_type": "code",
   "execution_count": 8,
   "metadata": {},
   "outputs": [],
   "source": [
    "subject_PT = ['058', '060', '066',  \n",
    "            '074', '075', '080', \n",
    "            '082', '083', '084', '086', '087', '089', \n",
    "            '095', '096', '101', '103', \n",
    "            '104', '105', '106', '108', \n",
    "            '113', '114', '117', '118', '120', '121', \n",
    "            '124', '125', '128', '131', \n",
    "            '134', '136', '138', '140', '141', \n",
    "            '142', '143', '146', '150', \n",
    "            '153', '156', '159', '160', '162', '165', \n",
    "            '168', '169', '171', '181', '182', \n",
    "            '183', '190', '193', '199', \n",
    "            '201', '205', '206', '209', '212']"
   ]
  },
  {
   "cell_type": "code",
   "execution_count": 9,
   "metadata": {},
   "outputs": [
    {
     "data": {
      "text/plain": [
       "matrix([[ 0.13468039,  0.17280138,  0.20301867, ...,  0.84515846,\n",
       "          0.87736046,  0.91394323],\n",
       "        [ 0.3100138 ,  0.32164598,  0.3228347 , ...,  0.2973867 ,\n",
       "          0.27433205,  0.25053686],\n",
       "        [-0.12425005, -0.13571256, -0.15185815, ...,  0.1142416 ,\n",
       "          0.10745546,  0.09673867],\n",
       "        ...,\n",
       "        [-1.0651155 , -1.0978962 , -1.0997355 , ...,  0.03511468,\n",
       "          0.00880063, -0.01416506],\n",
       "        [ 0.01254898, -0.04455832, -0.11565241, ...,  0.10462412,\n",
       "          0.10482979,  0.10883082],\n",
       "        [ 0.15289605,  0.18695319,  0.2186197 , ...,  0.24307331,\n",
       "          0.23280135,  0.21853817]], dtype=float32)"
      ]
     },
     "execution_count": 9,
     "metadata": {},
     "output_type": "execute_result"
    }
   ],
   "source": [
    "import numpy as np\n",
    "B = np.asmatrix(flatten_PT(subject_PT))\n",
    "B"
   ]
  },
  {
   "cell_type": "code",
   "execution_count": 10,
   "metadata": {},
   "outputs": [
    {
     "data": {
      "text/plain": [
       "(59, 20960)"
      ]
     },
     "execution_count": 10,
     "metadata": {},
     "output_type": "execute_result"
    }
   ],
   "source": [
    "B.shape"
   ]
  },
  {
   "cell_type": "code",
   "execution_count": 11,
   "metadata": {},
   "outputs": [
    {
     "data": {
      "text/plain": [
       "<function matplotlib.pyplot.show(*args, **kw)>"
      ]
     },
     "execution_count": 11,
     "metadata": {},
     "output_type": "execute_result"
    },
    {
     "data": {
      "image/png": "[encoded data removed]",
      "text/plain": [
       "<Figure size 432x288 with 1 Axes>"
      ]
     },
     "metadata": {},
     "output_type": "display_data"
    }
   ],
   "source": [
    "%matplotlib inline\n",
    "import matplotlib.pyplot as plt\n",
    "\n",
    "plt.imshow(B, aspect='auto')\n",
    "plt.show"
   ]
  },
  {
   "cell_type": "markdown",
   "metadata": {},
   "source": [
    "# Concatenate two groups (HC, PT)"
   ]
  },
  {
   "cell_type": "code",
   "execution_count": 12,
   "metadata": {},
   "outputs": [],
   "source": [
    "import numpy as np"
   ]
  },
  {
   "cell_type": "code",
   "execution_count": 14,
   "metadata": {},
   "outputs": [],
   "source": [
    "Matrix = np.concatenate((A, B), axis=0)"
   ]
  },
  {
   "cell_type": "code",
   "execution_count": 15,
   "metadata": {},
   "outputs": [
    {
     "data": {
      "text/plain": [
       "(83, 20960)"
      ]
     },
     "execution_count": 15,
     "metadata": {},
     "output_type": "execute_result"
    }
   ],
   "source": [
    "Matrix.shape"
   ]
  },
  {
   "cell_type": "code",
   "execution_count": 16,
   "metadata": {},
   "outputs": [
    {
     "data": {
      "text/plain": [
       "<function matplotlib.pyplot.show(*args, **kw)>"
      ]
     },
     "execution_count": 16,
     "metadata": {},
     "output_type": "execute_result"
    },
    {
     "data": {
      "image/png": "[encoded data removed]",
      "text/plain": [
       "<Figure size 432x288 with 1 Axes>"
      ]
     },
     "metadata": {},
     "output_type": "display_data"
    }
   ],
   "source": [
    "%matplotlib inline\n",
    "import matplotlib.pyplot as plt\n",
    "\n",
    "plt.imshow(Matrix, aspect='auto')\n",
    "plt.show"
   ]
  },
  {
   "cell_type": "markdown",
   "metadata": {},
   "source": [
    "## Check whether two ROI files (one with nilearn and the other with xjView) are same"
   ]
  },
  {
   "cell_type": "code",
   "execution_count": 18,
   "metadata": {},
   "outputs": [],
   "source": [
    "from nilearn.image import load_img\n",
    "from nilearn.image import new_img_like\n",
    "\n",
    "fmri_img = '/data/EFAT/EFAT_output/HC/datasink/1stLevel/sub-010/fwhm-8/con_0007.nii'\n",
    "ROI = load_img('/data/EFAT/anxiety_association-test_z_FDR_0.01-interp.nii').get_data().astype(bool)\n",
    "ROI = new_img_like(fmri_img, ROI.astype(np.int))"
   ]
  },
  {
   "cell_type": "code",
   "execution_count": 19,
   "metadata": {},
   "outputs": [
    {
     "data": {
      "text/plain": [
       "(157, 189, 156)"
      ]
     },
     "execution_count": 19,
     "metadata": {},
     "output_type": "execute_result"
    }
   ],
   "source": [
    "ROI.shape"
   ]
  },
  {
   "cell_type": "code",
   "execution_count": 20,
   "metadata": {},
   "outputs": [],
   "source": [
    "# cut in x-direction\n",
    "sagittal = -26\n",
    "# cut in y-direction\n",
    "coronal = 0\n",
    "# cut in z-direction\n",
    "axial = -24\n",
    "\n",
    "# coordinates displaying should be prepared as a list\n",
    "cut_coords = [sagittal, coronal, axial]"
   ]
  },
  {
   "cell_type": "code",
   "execution_count": 23,
   "metadata": {},
   "outputs": [
    {
     "data": {
      "text/plain": [
       "<nilearn.plotting.displays.OrthoSlicer at 0x7f34a80b1f60>"
      ]
     },
     "execution_count": 23,
     "metadata": {},
     "output_type": "execute_result"
    },
    {
     "data": {
      "image/png": "[encoded data removed]",
      "text/plain": [
       "<Figure size 475.2x187.2 with 4 Axes>"
      ]
     },
     "metadata": {},
     "output_type": "display_data"
    }
   ],
   "source": [
    "from nilearn.plotting import plot_roi, show\n",
    "from nilearn import image\n",
    "\n",
    "mean_img = image.mean_img(fmri_img)\n",
    "plot_roi(ROI, mean_img, cut_coords=cut_coords,\n",
    "         title='With nilearn')"
   ]
  },
  {
   "cell_type": "code",
   "execution_count": 24,
   "metadata": {},
   "outputs": [
    {
     "data": {
      "text/plain": [
       "<nilearn.plotting.displays.OrthoSlicer at 0x7f349c23e4a8>"
      ]
     },
     "execution_count": 24,
     "metadata": {},
     "output_type": "execute_result"
    },
    {
     "data": {
      "image/png": "[encoded data removed]",
      "text/plain": [
       "<Figure size 475.2x187.2 with 4 Axes>"
      ]
     },
     "metadata": {},
     "output_type": "display_data"
    }
   ],
   "source": [
    "from nilearn.plotting import plot_roi, show\n",
    "from nilearn import image\n",
    "\n",
    "ROI2 = '/data/EFAT/Mask.img'\n",
    "mean_img = image.mean_img(fmri_img)\n",
    "plot_roi(ROI2, mean_img, cut_coords=cut_coords,\n",
    "         title='With xjView')"
   ]
  },
  {
   "cell_type": "markdown",
   "metadata": {},
   "source": [
    "# Add Diagnoses feature"
   ]
  },
  {
   "cell_type": "code",
   "execution_count": 46,
   "metadata": {},
   "outputs": [
    {
     "data": {
      "text/html": [
       "<div>\n",
       "<style scoped>\n",
       "    .dataframe tbody tr th:only-of-type {\n",
       "        vertical-align: middle;\n",
       "    }\n",
       "\n",
       "    .dataframe tbody tr th {\n",
       "        vertical-align: top;\n",
       "    }\n",
       "\n",
       "    .dataframe thead th {\n",
       "        text-align: right;\n",
       "    }\n",
       "</style>\n",
       "<table border=\"1\" class=\"dataframe\">\n",
       "  <thead>\n",
       "    <tr style=\"text-align: right;\">\n",
       "      <th></th>\n",
       "      <th>Subject ID</th>\n",
       "      <th>PrimaryDx</th>\n",
       "      <th>Co-Morbidity</th>\n",
       "      <th>Past Diagnoses</th>\n",
       "    </tr>\n",
       "  </thead>\n",
       "  <tbody>\n",
       "    <tr>\n",
       "      <th>0</th>\n",
       "      <td>RDPT058</td>\n",
       "      <td>GAD</td>\n",
       "      <td>SAD</td>\n",
       "      <td>Past MDD</td>\n",
       "    </tr>\n",
       "    <tr>\n",
       "      <th>1</th>\n",
       "      <td>RDPT060</td>\n",
       "      <td>MDD</td>\n",
       "      <td>PTSD, GAD</td>\n",
       "      <td>none</td>\n",
       "    </tr>\n",
       "    <tr>\n",
       "      <th>2</th>\n",
       "      <td>RDPT066</td>\n",
       "      <td>GAD</td>\n",
       "      <td>SAD, Specific phobia (animal type - spiders,na...</td>\n",
       "      <td>Past PTSD</td>\n",
       "    </tr>\n",
       "    <tr>\n",
       "      <th>3</th>\n",
       "      <td>RDPT074</td>\n",
       "      <td>SAD</td>\n",
       "      <td>MDD</td>\n",
       "      <td>none</td>\n",
       "    </tr>\n",
       "    <tr>\n",
       "      <th>4</th>\n",
       "      <td>RDPT075</td>\n",
       "      <td>MDD</td>\n",
       "      <td>none</td>\n",
       "      <td>none</td>\n",
       "    </tr>\n",
       "    <tr>\n",
       "      <th>5</th>\n",
       "      <td>RDPT080</td>\n",
       "      <td>MDD</td>\n",
       "      <td>PTSD, SAD</td>\n",
       "      <td>none</td>\n",
       "    </tr>\n",
       "    <tr>\n",
       "      <th>6</th>\n",
       "      <td>RDPT082</td>\n",
       "      <td>GAD</td>\n",
       "      <td>SAD, MDD</td>\n",
       "      <td>none</td>\n",
       "    </tr>\n",
       "    <tr>\n",
       "      <th>7</th>\n",
       "      <td>RDPT083</td>\n",
       "      <td>GAD</td>\n",
       "      <td>NaN</td>\n",
       "      <td>Past MDD</td>\n",
       "    </tr>\n",
       "    <tr>\n",
       "      <th>8</th>\n",
       "      <td>RDPT084</td>\n",
       "      <td>MDD</td>\n",
       "      <td>GAD, OCD, Specific phobia</td>\n",
       "      <td>none</td>\n",
       "    </tr>\n",
       "    <tr>\n",
       "      <th>9</th>\n",
       "      <td>RDPT086</td>\n",
       "      <td>GAD</td>\n",
       "      <td>OCD, SAD</td>\n",
       "      <td>Past PTSD</td>\n",
       "    </tr>\n",
       "    <tr>\n",
       "      <th>10</th>\n",
       "      <td>RDPT087</td>\n",
       "      <td>SAD</td>\n",
       "      <td>MDD, PD, GAD</td>\n",
       "      <td>none</td>\n",
       "    </tr>\n",
       "    <tr>\n",
       "      <th>11</th>\n",
       "      <td>RDPT089</td>\n",
       "      <td>GAD</td>\n",
       "      <td>MDD, Dysthymia, SAD</td>\n",
       "      <td>none</td>\n",
       "    </tr>\n",
       "    <tr>\n",
       "      <th>12</th>\n",
       "      <td>RDPT095</td>\n",
       "      <td>SAD</td>\n",
       "      <td>MDD, GAD</td>\n",
       "      <td>Past PTSD</td>\n",
       "    </tr>\n",
       "    <tr>\n",
       "      <th>13</th>\n",
       "      <td>RDPT096</td>\n",
       "      <td>GAD</td>\n",
       "      <td>SAD</td>\n",
       "      <td>Past PTSD</td>\n",
       "    </tr>\n",
       "    <tr>\n",
       "      <th>14</th>\n",
       "      <td>RDPT101</td>\n",
       "      <td>GAD sxs</td>\n",
       "      <td>SAD</td>\n",
       "      <td>NaN</td>\n",
       "    </tr>\n",
       "    <tr>\n",
       "      <th>15</th>\n",
       "      <td>RDPT103</td>\n",
       "      <td>SAD</td>\n",
       "      <td>MDD, Alcohol abuse, OCD</td>\n",
       "      <td>none</td>\n",
       "    </tr>\n",
       "    <tr>\n",
       "      <th>16</th>\n",
       "      <td>RDPT104</td>\n",
       "      <td>MDD</td>\n",
       "      <td>none</td>\n",
       "      <td>none</td>\n",
       "    </tr>\n",
       "    <tr>\n",
       "      <th>17</th>\n",
       "      <td>RDPT105</td>\n",
       "      <td>Dysthymia</td>\n",
       "      <td>MDD, Specific Phobia - animal type</td>\n",
       "      <td>Past Binge-eating Disorder</td>\n",
       "    </tr>\n",
       "    <tr>\n",
       "      <th>18</th>\n",
       "      <td>RDPT106</td>\n",
       "      <td>GAD</td>\n",
       "      <td>MDD</td>\n",
       "      <td>none</td>\n",
       "    </tr>\n",
       "    <tr>\n",
       "      <th>19</th>\n",
       "      <td>RDPT108</td>\n",
       "      <td>GAD</td>\n",
       "      <td>SAD, specific phobia (situational type: flying)</td>\n",
       "      <td>Past MDD</td>\n",
       "    </tr>\n",
       "    <tr>\n",
       "      <th>20</th>\n",
       "      <td>RDPT113</td>\n",
       "      <td>GAD sxs</td>\n",
       "      <td>MDD, SAD (performance only)</td>\n",
       "      <td>Past alcohol abuse</td>\n",
       "    </tr>\n",
       "    <tr>\n",
       "      <th>21</th>\n",
       "      <td>RDPT114</td>\n",
       "      <td>PD sxs</td>\n",
       "      <td>none</td>\n",
       "      <td>Past MDD</td>\n",
       "    </tr>\n",
       "    <tr>\n",
       "      <th>22</th>\n",
       "      <td>RDPT117</td>\n",
       "      <td>GAD</td>\n",
       "      <td>none</td>\n",
       "      <td>Past MDD</td>\n",
       "    </tr>\n",
       "    <tr>\n",
       "      <th>23</th>\n",
       "      <td>RDPT118</td>\n",
       "      <td>MDD</td>\n",
       "      <td>SAD, GAD</td>\n",
       "      <td>NaN</td>\n",
       "    </tr>\n",
       "    <tr>\n",
       "      <th>24</th>\n",
       "      <td>RDPT120</td>\n",
       "      <td>MDD</td>\n",
       "      <td>SAD</td>\n",
       "      <td>none</td>\n",
       "    </tr>\n",
       "    <tr>\n",
       "      <th>25</th>\n",
       "      <td>RDPT121</td>\n",
       "      <td>GAD</td>\n",
       "      <td>none</td>\n",
       "      <td>none</td>\n",
       "    </tr>\n",
       "    <tr>\n",
       "      <th>26</th>\n",
       "      <td>RDPT124</td>\n",
       "      <td>GAD</td>\n",
       "      <td>PD</td>\n",
       "      <td>none</td>\n",
       "    </tr>\n",
       "    <tr>\n",
       "      <th>27</th>\n",
       "      <td>RDPT125</td>\n",
       "      <td>MDD</td>\n",
       "      <td>none</td>\n",
       "      <td>none</td>\n",
       "    </tr>\n",
       "    <tr>\n",
       "      <th>28</th>\n",
       "      <td>RDPT128</td>\n",
       "      <td>MDD</td>\n",
       "      <td>none</td>\n",
       "      <td>none</td>\n",
       "    </tr>\n",
       "    <tr>\n",
       "      <th>29</th>\n",
       "      <td>RDPT131</td>\n",
       "      <td>GAD</td>\n",
       "      <td>MDD, SAD-generalized</td>\n",
       "      <td>PTSD</td>\n",
       "    </tr>\n",
       "    <tr>\n",
       "      <th>30</th>\n",
       "      <td>RDPT134</td>\n",
       "      <td>GAD</td>\n",
       "      <td>SAD</td>\n",
       "      <td>none</td>\n",
       "    </tr>\n",
       "    <tr>\n",
       "      <th>31</th>\n",
       "      <td>RDPT136</td>\n",
       "      <td>GAD</td>\n",
       "      <td>MDD, Current PDD w/ Persistent MDD, PTSD-lifet...</td>\n",
       "      <td>NaN</td>\n",
       "    </tr>\n",
       "    <tr>\n",
       "      <th>32</th>\n",
       "      <td>RDPT138</td>\n",
       "      <td>GAD</td>\n",
       "      <td>Panic Disorder, SAD-performance</td>\n",
       "      <td>none</td>\n",
       "    </tr>\n",
       "    <tr>\n",
       "      <th>33</th>\n",
       "      <td>RDPT140</td>\n",
       "      <td>MDD</td>\n",
       "      <td>none</td>\n",
       "      <td>Alcohol Dep, Poly Drug Abuse, PTSD</td>\n",
       "    </tr>\n",
       "    <tr>\n",
       "      <th>34</th>\n",
       "      <td>RDPT141</td>\n",
       "      <td>SAD</td>\n",
       "      <td>Dysthmia, Current Persisitent Depression-w/pur...</td>\n",
       "      <td>NaN</td>\n",
       "    </tr>\n",
       "    <tr>\n",
       "      <th>35</th>\n",
       "      <td>RDPT142</td>\n",
       "      <td>GAD</td>\n",
       "      <td>SAD-generalized, Phobia-driving, Current Persi...</td>\n",
       "      <td>MDD</td>\n",
       "    </tr>\n",
       "    <tr>\n",
       "      <th>36</th>\n",
       "      <td>RDPT143</td>\n",
       "      <td>GAD</td>\n",
       "      <td>Phobia-dark, Current PDD w/Persistent MDE, Panic</td>\n",
       "      <td>Alcohol Abuse</td>\n",
       "    </tr>\n",
       "    <tr>\n",
       "      <th>37</th>\n",
       "      <td>RDPT146</td>\n",
       "      <td>SAD</td>\n",
       "      <td>MDD, GAD, Panic, Current PDD w/Intermittent MD...</td>\n",
       "      <td>BED</td>\n",
       "    </tr>\n",
       "    <tr>\n",
       "      <th>38</th>\n",
       "      <td>RDPT150</td>\n",
       "      <td>GAD</td>\n",
       "      <td>Phobia-Insects, Alcohol abuse, SAD, Agoraphobi...</td>\n",
       "      <td>Alcohol Dependence</td>\n",
       "    </tr>\n",
       "    <tr>\n",
       "      <th>39</th>\n",
       "      <td>RDPT153</td>\n",
       "      <td>GAD</td>\n",
       "      <td>none</td>\n",
       "      <td>MDD past</td>\n",
       "    </tr>\n",
       "    <tr>\n",
       "      <th>40</th>\n",
       "      <td>RDPT156</td>\n",
       "      <td>SAD</td>\n",
       "      <td>Panic Disorder, SAD-performance</td>\n",
       "      <td>MDD</td>\n",
       "    </tr>\n",
       "    <tr>\n",
       "      <th>41</th>\n",
       "      <td>RDPT159</td>\n",
       "      <td>SAD</td>\n",
       "      <td>GAD</td>\n",
       "      <td>none</td>\n",
       "    </tr>\n",
       "    <tr>\n",
       "      <th>42</th>\n",
       "      <td>RDPT160</td>\n",
       "      <td>GAD</td>\n",
       "      <td>SAD</td>\n",
       "      <td>Alcohol dependence, PTSD</td>\n",
       "    </tr>\n",
       "    <tr>\n",
       "      <th>43</th>\n",
       "      <td>RDPT162</td>\n",
       "      <td>SAD</td>\n",
       "      <td>MDD, Panic, Agorophobia, Phobia-darkness, GAD,...</td>\n",
       "      <td>MDD</td>\n",
       "    </tr>\n",
       "    <tr>\n",
       "      <th>44</th>\n",
       "      <td>RDPT165</td>\n",
       "      <td>SAD</td>\n",
       "      <td>MDD, GAD, Current Persistent Depressive Disord...</td>\n",
       "      <td>MDD</td>\n",
       "    </tr>\n",
       "    <tr>\n",
       "      <th>45</th>\n",
       "      <td>RDPT168</td>\n",
       "      <td>SAD</td>\n",
       "      <td>MDD, GAD, Agorophobia, PTSD</td>\n",
       "      <td>PTSD</td>\n",
       "    </tr>\n",
       "    <tr>\n",
       "      <th>46</th>\n",
       "      <td>RDPT169</td>\n",
       "      <td>SAD</td>\n",
       "      <td>BED, MDD, Panic</td>\n",
       "      <td>none</td>\n",
       "    </tr>\n",
       "    <tr>\n",
       "      <th>47</th>\n",
       "      <td>RDPT171</td>\n",
       "      <td>Panic</td>\n",
       "      <td>MDD, SAD, GAD, PTSD</td>\n",
       "      <td>Polydrug dependence, PTSD</td>\n",
       "    </tr>\n",
       "    <tr>\n",
       "      <th>48</th>\n",
       "      <td>RDPT181</td>\n",
       "      <td>GAD</td>\n",
       "      <td>SAD. MDD</td>\n",
       "      <td>BED</td>\n",
       "    </tr>\n",
       "    <tr>\n",
       "      <th>49</th>\n",
       "      <td>RDPT182</td>\n",
       "      <td>MDD</td>\n",
       "      <td>SAD, Current PDD w/intermittent MDD-current ep...</td>\n",
       "      <td>NaN</td>\n",
       "    </tr>\n",
       "    <tr>\n",
       "      <th>50</th>\n",
       "      <td>RDPT183</td>\n",
       "      <td>MDD</td>\n",
       "      <td>Current PDD w/intermittent MDD-current episode</td>\n",
       "      <td>NaN</td>\n",
       "    </tr>\n",
       "    <tr>\n",
       "      <th>51</th>\n",
       "      <td>RDPT190</td>\n",
       "      <td>SAD</td>\n",
       "      <td>GAD, Agorophobia, phobia-blood</td>\n",
       "      <td>none</td>\n",
       "    </tr>\n",
       "    <tr>\n",
       "      <th>52</th>\n",
       "      <td>RDPT193</td>\n",
       "      <td>GAD</td>\n",
       "      <td>MDD</td>\n",
       "      <td>NaN</td>\n",
       "    </tr>\n",
       "    <tr>\n",
       "      <th>53</th>\n",
       "      <td>RDPT199</td>\n",
       "      <td>MDD</td>\n",
       "      <td>Panic, Agorophobia, Phobia-dentist</td>\n",
       "      <td>PTSD</td>\n",
       "    </tr>\n",
       "    <tr>\n",
       "      <th>54</th>\n",
       "      <td>RDPT201</td>\n",
       "      <td>GAD</td>\n",
       "      <td>Panic, Agorophonia, phobia-spiders, Current PDD</td>\n",
       "      <td>MDD</td>\n",
       "    </tr>\n",
       "    <tr>\n",
       "      <th>55</th>\n",
       "      <td>RDPT205</td>\n",
       "      <td>GAD</td>\n",
       "      <td>SAD</td>\n",
       "      <td>none</td>\n",
       "    </tr>\n",
       "    <tr>\n",
       "      <th>56</th>\n",
       "      <td>RDPT206</td>\n",
       "      <td>MDD</td>\n",
       "      <td>Panic, Agoraphobia-crowds, Phobia sxs-flying, GAD</td>\n",
       "      <td>NaN</td>\n",
       "    </tr>\n",
       "    <tr>\n",
       "      <th>57</th>\n",
       "      <td>RDPT209</td>\n",
       "      <td>MDD</td>\n",
       "      <td>PDD w/current ep, Dysthymia sxs, PTSD sxs, Pan...</td>\n",
       "      <td>NaN</td>\n",
       "    </tr>\n",
       "    <tr>\n",
       "      <th>58</th>\n",
       "      <td>RDPT212</td>\n",
       "      <td>GAD</td>\n",
       "      <td>PDD w/current MDE, SAD, GAD</td>\n",
       "      <td>Panic</td>\n",
       "    </tr>\n",
       "  </tbody>\n",
       "</table>\n",
       "</div>"
      ],
      "text/plain": [
       "   Subject ID   PrimaryDx                                      Co-Morbidity   \\\n",
       "0     RDPT058         GAD                                                SAD   \n",
       "1     RDPT060         MDD                                          PTSD, GAD   \n",
       "2     RDPT066         GAD  SAD, Specific phobia (animal type - spiders,na...   \n",
       "3     RDPT074         SAD                                                MDD   \n",
       "4     RDPT075         MDD                                               none   \n",
       "5     RDPT080         MDD                                          PTSD, SAD   \n",
       "6     RDPT082         GAD                                           SAD, MDD   \n",
       "7     RDPT083         GAD                                                NaN   \n",
       "8     RDPT084         MDD                          GAD, OCD, Specific phobia   \n",
       "9     RDPT086         GAD                                           OCD, SAD   \n",
       "10    RDPT087         SAD                                       MDD, PD, GAD   \n",
       "11    RDPT089         GAD                                MDD, Dysthymia, SAD   \n",
       "12    RDPT095         SAD                                           MDD, GAD   \n",
       "13    RDPT096         GAD                                                SAD   \n",
       "14    RDPT101     GAD sxs                                                SAD   \n",
       "15    RDPT103         SAD                            MDD, Alcohol abuse, OCD   \n",
       "16    RDPT104         MDD                                               none   \n",
       "17    RDPT105  Dysthymia                  MDD, Specific Phobia - animal type   \n",
       "18    RDPT106         GAD                                                MDD   \n",
       "19    RDPT108         GAD    SAD, specific phobia (situational type: flying)   \n",
       "20    RDPT113     GAD sxs                        MDD, SAD (performance only)   \n",
       "21    RDPT114      PD sxs                                               none   \n",
       "22    RDPT117         GAD                                               none   \n",
       "23    RDPT118         MDD                                           SAD, GAD   \n",
       "24    RDPT120         MDD                                                SAD   \n",
       "25    RDPT121         GAD                                               none   \n",
       "26    RDPT124         GAD                                                 PD   \n",
       "27    RDPT125         MDD                                               none   \n",
       "28    RDPT128         MDD                                               none   \n",
       "29    RDPT131         GAD                               MDD, SAD-generalized   \n",
       "30    RDPT134         GAD                                                SAD   \n",
       "31    RDPT136         GAD  MDD, Current PDD w/ Persistent MDD, PTSD-lifet...   \n",
       "32    RDPT138         GAD                    Panic Disorder, SAD-performance   \n",
       "33    RDPT140         MDD                                               none   \n",
       "34    RDPT141         SAD  Dysthmia, Current Persisitent Depression-w/pur...   \n",
       "35    RDPT142         GAD  SAD-generalized, Phobia-driving, Current Persi...   \n",
       "36    RDPT143         GAD   Phobia-dark, Current PDD w/Persistent MDE, Panic   \n",
       "37    RDPT146         SAD  MDD, GAD, Panic, Current PDD w/Intermittent MD...   \n",
       "38    RDPT150         GAD  Phobia-Insects, Alcohol abuse, SAD, Agoraphobi...   \n",
       "39    RDPT153         GAD                                               none   \n",
       "40    RDPT156         SAD                    Panic Disorder, SAD-performance   \n",
       "41    RDPT159         SAD                                                GAD   \n",
       "42    RDPT160         GAD                                                SAD   \n",
       "43    RDPT162         SAD  MDD, Panic, Agorophobia, Phobia-darkness, GAD,...   \n",
       "44    RDPT165         SAD  MDD, GAD, Current Persistent Depressive Disord...   \n",
       "45    RDPT168         SAD                        MDD, GAD, Agorophobia, PTSD   \n",
       "46    RDPT169         SAD                                    BED, MDD, Panic   \n",
       "47    RDPT171       Panic                                MDD, SAD, GAD, PTSD   \n",
       "48    RDPT181         GAD                                           SAD. MDD   \n",
       "49    RDPT182         MDD  SAD, Current PDD w/intermittent MDD-current ep...   \n",
       "50    RDPT183         MDD     Current PDD w/intermittent MDD-current episode   \n",
       "51    RDPT190         SAD                     GAD, Agorophobia, phobia-blood   \n",
       "52    RDPT193         GAD                                                MDD   \n",
       "53    RDPT199         MDD                 Panic, Agorophobia, Phobia-dentist   \n",
       "54    RDPT201         GAD    Panic, Agorophonia, phobia-spiders, Current PDD   \n",
       "55    RDPT205         GAD                                                SAD   \n",
       "56    RDPT206         MDD  Panic, Agoraphobia-crowds, Phobia sxs-flying, GAD   \n",
       "57    RDPT209         MDD  PDD w/current ep, Dysthymia sxs, PTSD sxs, Pan...   \n",
       "58    RDPT212         GAD                        PDD w/current MDE, SAD, GAD   \n",
       "\n",
       "                        Past Diagnoses  \n",
       "0                             Past MDD  \n",
       "1                                 none  \n",
       "2                            Past PTSD  \n",
       "3                                 none  \n",
       "4                                 none  \n",
       "5                                 none  \n",
       "6                                 none  \n",
       "7                             Past MDD  \n",
       "8                                 none  \n",
       "9                            Past PTSD  \n",
       "10                                none  \n",
       "11                                none  \n",
       "12                           Past PTSD  \n",
       "13                           Past PTSD  \n",
       "14                                 NaN  \n",
       "15                                none  \n",
       "16                                none  \n",
       "17          Past Binge-eating Disorder  \n",
       "18                                none  \n",
       "19                            Past MDD  \n",
       "20                  Past alcohol abuse  \n",
       "21                            Past MDD  \n",
       "22                            Past MDD  \n",
       "23                                 NaN  \n",
       "24                                none  \n",
       "25                                none  \n",
       "26                                none  \n",
       "27                                none  \n",
       "28                                none  \n",
       "29                                PTSD  \n",
       "30                                none  \n",
       "31                                 NaN  \n",
       "32                                none  \n",
       "33  Alcohol Dep, Poly Drug Abuse, PTSD  \n",
       "34                                 NaN  \n",
       "35                                 MDD  \n",
       "36                       Alcohol Abuse  \n",
       "37                                 BED  \n",
       "38                  Alcohol Dependence  \n",
       "39                            MDD past  \n",
       "40                                 MDD  \n",
       "41                                none  \n",
       "42            Alcohol dependence, PTSD  \n",
       "43                                 MDD  \n",
       "44                                 MDD  \n",
       "45                                PTSD  \n",
       "46                                none  \n",
       "47           Polydrug dependence, PTSD  \n",
       "48                                 BED  \n",
       "49                                 NaN  \n",
       "50                                 NaN  \n",
       "51                                none  \n",
       "52                                 NaN  \n",
       "53                               PTSD   \n",
       "54                                 MDD  \n",
       "55                                none  \n",
       "56                                 NaN  \n",
       "57                                 NaN  \n",
       "58                               Panic  "
      ]
     },
     "execution_count": 46,
     "metadata": {},
     "output_type": "execute_result"
    }
   ],
   "source": [
    "import pandas as pd\n",
    "import numpy as np\n",
    "\n",
    "D = pd.read_excel('/data/EFAT/info/Diagnoses_2.xlsx')\n",
    "D"
   ]
  },
  {
   "cell_type": "code",
   "execution_count": 55,
   "metadata": {},
   "outputs": [
    {
     "data": {
      "text/plain": [
       "matrix([['GAD'],\n",
       "        ['MDD'],\n",
       "        ['GAD'],\n",
       "        ['SAD'],\n",
       "        ['MDD'],\n",
       "        ['MDD'],\n",
       "        ['GAD'],\n",
       "        ['GAD'],\n",
       "        ['MDD'],\n",
       "        ['GAD'],\n",
       "        ['SAD'],\n",
       "        ['GAD'],\n",
       "        ['SAD'],\n",
       "        ['GAD'],\n",
       "        ['GAD sxs'],\n",
       "        ['SAD'],\n",
       "        ['MDD'],\n",
       "        ['Dysthymia '],\n",
       "        ['GAD'],\n",
       "        ['GAD'],\n",
       "        ['GAD sxs'],\n",
       "        ['PD sxs'],\n",
       "        ['GAD'],\n",
       "        ['MDD'],\n",
       "        ['MDD'],\n",
       "        ['GAD'],\n",
       "        ['GAD'],\n",
       "        ['MDD'],\n",
       "        ['MDD'],\n",
       "        ['GAD'],\n",
       "        ['GAD'],\n",
       "        ['GAD'],\n",
       "        ['GAD'],\n",
       "        ['MDD'],\n",
       "        ['SAD'],\n",
       "        ['GAD'],\n",
       "        ['GAD'],\n",
       "        ['SAD'],\n",
       "        ['GAD'],\n",
       "        ['GAD'],\n",
       "        ['SAD'],\n",
       "        ['SAD'],\n",
       "        ['GAD'],\n",
       "        ['SAD'],\n",
       "        ['SAD'],\n",
       "        ['SAD'],\n",
       "        ['SAD'],\n",
       "        ['Panic'],\n",
       "        ['GAD'],\n",
       "        ['MDD'],\n",
       "        ['MDD'],\n",
       "        ['SAD'],\n",
       "        ['GAD'],\n",
       "        ['MDD'],\n",
       "        ['GAD'],\n",
       "        ['GAD'],\n",
       "        ['MDD'],\n",
       "        ['MDD'],\n",
       "        ['GAD']], dtype=object)"
      ]
     },
     "execution_count": 55,
     "metadata": {},
     "output_type": "execute_result"
    }
   ],
   "source": [
    "Dia = D['PrimaryDx']\n",
    "Dia = np.asmatrix(Dia)\n",
    "Dia.shape = (59, 1)\n",
    "Dia"
   ]
  },
  {
   "cell_type": "code",
   "execution_count": 56,
   "metadata": {},
   "outputs": [
    {
     "data": {
      "text/plain": [
       "matrix([[nan],\n",
       "        [nan],\n",
       "        [nan],\n",
       "        [nan],\n",
       "        [nan],\n",
       "        [nan],\n",
       "        [nan],\n",
       "        [nan],\n",
       "        [nan],\n",
       "        [nan],\n",
       "        [nan],\n",
       "        [nan],\n",
       "        [nan],\n",
       "        [nan],\n",
       "        [nan],\n",
       "        [nan],\n",
       "        [nan],\n",
       "        [nan],\n",
       "        [nan],\n",
       "        [nan],\n",
       "        [nan],\n",
       "        [nan],\n",
       "        [nan],\n",
       "        [nan]])"
      ]
     },
     "execution_count": 56,
     "metadata": {},
     "output_type": "execute_result"
    }
   ],
   "source": [
    "a = np.empty((24,1))\n",
    "a[:] = np.nan\n",
    "a = np.asmatrix(a)\n",
    "a"
   ]
  },
  {
   "cell_type": "code",
   "execution_count": 59,
   "metadata": {},
   "outputs": [
    {
     "data": {
      "text/plain": [
       "matrix([[nan],\n",
       "        [nan],\n",
       "        [nan],\n",
       "        [nan],\n",
       "        [nan],\n",
       "        [nan],\n",
       "        [nan],\n",
       "        [nan],\n",
       "        [nan],\n",
       "        [nan],\n",
       "        [nan],\n",
       "        [nan],\n",
       "        [nan],\n",
       "        [nan],\n",
       "        [nan],\n",
       "        [nan],\n",
       "        [nan],\n",
       "        [nan],\n",
       "        [nan],\n",
       "        [nan],\n",
       "        [nan],\n",
       "        [nan],\n",
       "        [nan],\n",
       "        [nan],\n",
       "        ['GAD'],\n",
       "        ['MDD'],\n",
       "        ['GAD'],\n",
       "        ['SAD'],\n",
       "        ['MDD'],\n",
       "        ['MDD'],\n",
       "        ['GAD'],\n",
       "        ['GAD'],\n",
       "        ['MDD'],\n",
       "        ['GAD'],\n",
       "        ['SAD'],\n",
       "        ['GAD'],\n",
       "        ['SAD'],\n",
       "        ['GAD'],\n",
       "        ['GAD sxs'],\n",
       "        ['SAD'],\n",
       "        ['MDD'],\n",
       "        ['Dysthymia '],\n",
       "        ['GAD'],\n",
       "        ['GAD'],\n",
       "        ['GAD sxs'],\n",
       "        ['PD sxs'],\n",
       "        ['GAD'],\n",
       "        ['MDD'],\n",
       "        ['MDD'],\n",
       "        ['GAD'],\n",
       "        ['GAD'],\n",
       "        ['MDD'],\n",
       "        ['MDD'],\n",
       "        ['GAD'],\n",
       "        ['GAD'],\n",
       "        ['GAD'],\n",
       "        ['GAD'],\n",
       "        ['MDD'],\n",
       "        ['SAD'],\n",
       "        ['GAD'],\n",
       "        ['GAD'],\n",
       "        ['SAD'],\n",
       "        ['GAD'],\n",
       "        ['GAD'],\n",
       "        ['SAD'],\n",
       "        ['SAD'],\n",
       "        ['GAD'],\n",
       "        ['SAD'],\n",
       "        ['SAD'],\n",
       "        ['SAD'],\n",
       "        ['SAD'],\n",
       "        ['Panic'],\n",
       "        ['GAD'],\n",
       "        ['MDD'],\n",
       "        ['MDD'],\n",
       "        ['SAD'],\n",
       "        ['GAD'],\n",
       "        ['MDD'],\n",
       "        ['GAD'],\n",
       "        ['GAD'],\n",
       "        ['MDD'],\n",
       "        ['MDD'],\n",
       "        ['GAD']], dtype=object)"
      ]
     },
     "execution_count": 59,
     "metadata": {},
     "output_type": "execute_result"
    }
   ],
   "source": [
    "DX_primary = np.concatenate((a, Dia), axis=0)\n",
    "DX_primary"
   ]
  },
  {
   "cell_type": "code",
   "execution_count": 60,
   "metadata": {},
   "outputs": [
    {
     "data": {
      "text/plain": [
       "(83, 20961)"
      ]
     },
     "execution_count": 60,
     "metadata": {},
     "output_type": "execute_result"
    }
   ],
   "source": [
    "# add diagnoses feature\n",
    "\n",
    "Matrix_Primary = np.concatenate((Matrix, DX_primary), axis=1)\n",
    "Matrix_Primary.shape"
   ]
  },
  {
   "cell_type": "code",
   "execution_count": null,
   "metadata": {},
   "outputs": [],
   "source": []
  }
 ],
 "metadata": {
  "kernelspec": {
   "display_name": "Python 3",
   "language": "python",
   "name": "python3"
  },
  "language_info": {
   "codemirror_mode": {
    "name": "ipython",
    "version": 3
   },
   "file_extension": ".py",
   "mimetype": "text/x-python",
   "name": "python",
   "nbconvert_exporter": "python",
   "pygments_lexer": "ipython3",
   "version": "3.6.5"
  }
 },
 "nbformat": 4,
 "nbformat_minor": 2
}
