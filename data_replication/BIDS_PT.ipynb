{
 "cells": [
  {
   "cell_type": "code",
   "execution_count": 2,
   "metadata": {},
   "outputs": [],
   "source": [
    "import os\n",
    "import glob\n",
    "os.chdir('/data/EFAT/EFAT_RawData/PT')"
   ]
  },
  {
   "cell_type": "code",
   "execution_count": 30,
   "metadata": {},
   "outputs": [
    {
     "data": {
      "text/plain": [
       "['RDPT169',\n",
       " 'RDPT082',\n",
       " 'RDPT058',\n",
       " 'RDPT175',\n",
       " 'RDPT006',\n",
       " 'RDPT212',\n",
       " 'RDPT101',\n",
       " 'RDPT117',\n",
       " 'RDPT134',\n",
       " 'RDPT103',\n",
       " 'RDPT129',\n",
       " 'RDPT160',\n",
       " 'RDPT009',\n",
       " 'RDPT128',\n",
       " 'RDPT138',\n",
       " 'RDPT063',\n",
       " 'RDPT034',\n",
       " 'RDPT027',\n",
       " 'RDPT108',\n",
       " 'RDPT120',\n",
       " 'RDPT199',\n",
       " 'RDPT095',\n",
       " 'RDPT147',\n",
       " 'RDPT086',\n",
       " 'RDPT017',\n",
       " 'RDPT121',\n",
       " 'RDPT096',\n",
       " 'RDPT047',\n",
       " 'RDPT146',\n",
       " 'RDPT140',\n",
       " 'RDPT132',\n",
       " 'RDPT033',\n",
       " 'RDPT066',\n",
       " 'RDPT098',\n",
       " 'RDPT044',\n",
       " 'RDPT106',\n",
       " 'RDPT142',\n",
       " 'RDPT089',\n",
       " 'RDPT184',\n",
       " 'RDPT159',\n",
       " 'RDPT024',\n",
       " 'RDPT209',\n",
       " 'RDPT031',\n",
       " 'RDPT207',\n",
       " 'RDPT150',\n",
       " 'RDPT168',\n",
       " 'RDPT043',\n",
       " 'RDPT037',\n",
       " 'RDPT004',\n",
       " 'RDPT196',\n",
       " 'RDPT007',\n",
       " 'RDPT109',\n",
       " 'RDPT078',\n",
       " 'RDPT053',\n",
       " 'RDPT204',\n",
       " 'RDPT171',\n",
       " 'RDPT124',\n",
       " 'RDPT074',\n",
       " 'RDPT080',\n",
       " 'RDPT028',\n",
       " 'RDPT190',\n",
       " 'RDPT152',\n",
       " 'RDPT105',\n",
       " 'RDPT201',\n",
       " 'RDPT205',\n",
       " 'RDPT097',\n",
       " 'RDPT131',\n",
       " 'RDPT143',\n",
       " 'RDPT038',\n",
       " 'RDPT110',\n",
       " 'RDPT016',\n",
       " 'RDPT010',\n",
       " 'RDPT206',\n",
       " 'RDPT087',\n",
       " 'RDPT193',\n",
       " 'RDPT197',\n",
       " 'RDPT118',\n",
       " 'RDPT013',\n",
       " 'RDPT114',\n",
       " 'RDPT157',\n",
       " 'RDPT136',\n",
       " 'RDPT011',\n",
       " 'RDPT042',\n",
       " 'RDPT057',\n",
       " 'RDPT068',\n",
       " 'RDPT083',\n",
       " 'RDPT084',\n",
       " 'RDPT045',\n",
       " 'RDPT125',\n",
       " 'RDPT049',\n",
       " 'RDPT051',\n",
       " 'RDPT156',\n",
       " 'RDPT104',\n",
       " 'RDPT081',\n",
       " 'RDPT162',\n",
       " 'RDPT130',\n",
       " 'RDPT183',\n",
       " 'RDPT021',\n",
       " 'RDPT075',\n",
       " 'RDPT165',\n",
       " 'RDPT005',\n",
       " 'RDPT181',\n",
       " 'RDPT014',\n",
       " 'RDPT003',\n",
       " 'RDPT113',\n",
       " 'RDPT141',\n",
       " 'RDPT182',\n",
       " 'RDPT153',\n",
       " 'RDPT102',\n",
       " 'RDPT069',\n",
       " 'RDPT018',\n",
       " 'RDPT127',\n",
       " 'RDPT060']"
      ]
     },
     "execution_count": 30,
     "metadata": {},
     "output_type": "execute_result"
    }
   ],
   "source": [
    "os.listdir(\".\")"
   ]
  },
  {
   "cell_type": "code",
   "execution_count": 31,
   "metadata": {},
   "outputs": [],
   "source": [
    "for filename in os.listdir(\".\"):\n",
    "        os.rename(filename, \"{}{}\".format('sub-',filename[4:7]))"
   ]
  },
  {
   "cell_type": "code",
   "execution_count": 32,
   "metadata": {},
   "outputs": [],
   "source": [
    "for filename in os.listdir(\".\"):\n",
    "    os.makedirs(os.path.join(filename, 'anat'))\n",
    "\n",
    "for filename in os.listdir(\".\"):\n",
    "    os.makedirs(os.path.join(filename, 'func')) "
   ]
  },
  {
   "cell_type": "code",
   "execution_count": 41,
   "metadata": {},
   "outputs": [
    {
     "data": {
      "text/plain": [
       "['/data/EFAT/EFAT_RawData/PT/sub-031/RDPT031A_12_SPGR.nii',\n",
       " '/data/EFAT/EFAT_RawData/PT/sub-199/RDPT199A_10_SPGR.nii',\n",
       " '/data/EFAT/EFAT_RawData/PT/sub-081/RDPT081A_11_SPGR.nii',\n",
       " '/data/EFAT/EFAT_RawData/PT/sub-207/RDPT207A_10_SPGR.nii',\n",
       " '/data/EFAT/EFAT_RawData/PT/sub-120/RDPT120A_09_SPGR.nii',\n",
       " '/data/EFAT/EFAT_RawData/PT/sub-182/RDPT182A_10_SPGR.nii',\n",
       " '/data/EFAT/EFAT_RawData/PT/sub-027/RDPT027A_11_SPGR.nii',\n",
       " '/data/EFAT/EFAT_RawData/PT/sub-109/RDPT109A_11_SPGR.nii',\n",
       " '/data/EFAT/EFAT_RawData/PT/sub-063/RDPT063A_15_SPGR.nii',\n",
       " '/data/EFAT/EFAT_RawData/PT/sub-028/RDPT028A_15_SPGR.nii',\n",
       " '/data/EFAT/EFAT_RawData/PT/sub-098/RDPT098B_12_SPGR.nii',\n",
       " '/data/EFAT/EFAT_RawData/PT/sub-082/RDPT082A_12_SPGR.nii',\n",
       " '/data/EFAT/EFAT_RawData/PT/sub-129/RDPT129A_17_SPGR.nii',\n",
       " '/data/EFAT/EFAT_RawData/PT/sub-105/RDPT105A_10_SPGR.nii',\n",
       " '/data/EFAT/EFAT_RawData/PT/sub-034/RDPT034A_12_SPGR.nii',\n",
       " '/data/EFAT/EFAT_RawData/PT/sub-058/RDPT058A_14_SPGR.nii',\n",
       " '/data/EFAT/EFAT_RawData/PT/sub-128/RDPT128A_10_SPGR.nii',\n",
       " '/data/EFAT/EFAT_RawData/PT/sub-097/RDPT097A_10_SPGR.nii',\n",
       " '/data/EFAT/EFAT_RawData/PT/sub-060/RDPT060A_14_SPGR.nii',\n",
       " '/data/EFAT/EFAT_RawData/PT/sub-047/RDPT047A_11_SPGR.nii',\n",
       " '/data/EFAT/EFAT_RawData/PT/sub-086/RDPT086A_13_SPGR.nii',\n",
       " '/data/EFAT/EFAT_RawData/PT/sub-068/RDPT068A_14_SPGR.nii',\n",
       " '/data/EFAT/EFAT_RawData/PT/sub-075/RDPT075A_13_SPGR.nii',\n",
       " '/data/EFAT/EFAT_RawData/PT/sub-049/RDPT049A_12_SPGR.nii',\n",
       " '/data/EFAT/EFAT_RawData/PT/sub-131/RDPT131A_10_SPGR.nii',\n",
       " '/data/EFAT/EFAT_RawData/PT/sub-125/RDPT125A_10_SPGR.nii',\n",
       " '/data/EFAT/EFAT_RawData/PT/sub-010/RDPT010A_11_SPGR.nii',\n",
       " '/data/EFAT/EFAT_RawData/PT/sub-087/RDPT087A_11_SPGR.nii',\n",
       " '/data/EFAT/EFAT_RawData/PT/sub-147/RDPT147A_10_SPGR.nii',\n",
       " '/data/EFAT/EFAT_RawData/PT/sub-141/RDPT141A_10_SPGR.nii',\n",
       " '/data/EFAT/EFAT_RawData/PT/sub-190/RDPT190B_09_SPGR.nii',\n",
       " '/data/EFAT/EFAT_RawData/PT/sub-134/RDPT134A_10_SPGR.nii',\n",
       " '/data/EFAT/EFAT_RawData/PT/sub-014/RDPT014A_12_SPGR.nii',\n",
       " '/data/EFAT/EFAT_RawData/PT/sub-103/RDPT103A_10_SPGR.nii',\n",
       " '/data/EFAT/EFAT_RawData/PT/sub-193/RDPT193A_11_SPGR.nii',\n",
       " '/data/EFAT/EFAT_RawData/PT/sub-006/RDPT006A_16_SPGR.nii',\n",
       " '/data/EFAT/EFAT_RawData/PT/sub-066/RDPT066A_11_SPGR.nii',\n",
       " '/data/EFAT/EFAT_RawData/PT/sub-153/RDPT153A_10_SPGR.nii',\n",
       " '/data/EFAT/EFAT_RawData/PT/sub-142/RDPT142A_12_SPGR.nii',\n",
       " '/data/EFAT/EFAT_RawData/PT/sub-205/RDPT205A_13_SPGR.nii',\n",
       " '/data/EFAT/EFAT_RawData/PT/sub-150/RDPT150A_09_SPGR.nii',\n",
       " '/data/EFAT/EFAT_RawData/PT/sub-146/RDPT146A_10_SPGR.nii',\n",
       " '/data/EFAT/EFAT_RawData/PT/sub-017/RDPT017A_12_SPGR.nii',\n",
       " '/data/EFAT/EFAT_RawData/PT/sub-016/RDPT016A_11_SPGR.nii',\n",
       " '/data/EFAT/EFAT_RawData/PT/sub-021/RDPT021A_12_SPGR.nii',\n",
       " '/data/EFAT/EFAT_RawData/PT/sub-033/RDPT033A_17_SPGR.nii',\n",
       " '/data/EFAT/EFAT_RawData/PT/sub-024/RDPT024A_12_SPGR.nii',\n",
       " '/data/EFAT/EFAT_RawData/PT/sub-042/RDPT042A_12_SPGR.nii',\n",
       " '/data/EFAT/EFAT_RawData/PT/sub-168/RDPT168A_15_SPGR.nii',\n",
       " '/data/EFAT/EFAT_RawData/PT/sub-004/RDPT004A_12_SPGR.nii',\n",
       " '/data/EFAT/EFAT_RawData/PT/sub-003/RDPT003A_12_SPGR.nii',\n",
       " '/data/EFAT/EFAT_RawData/PT/sub-089/RDPT089A_10_SPGR.nii',\n",
       " '/data/EFAT/EFAT_RawData/PT/sub-204/RDPT204A_10_SPGR.nii',\n",
       " '/data/EFAT/EFAT_RawData/PT/sub-121/RDPT121A_10_SPGR.nii',\n",
       " '/data/EFAT/EFAT_RawData/PT/sub-101/RDPT101A_13_SPGR.nii',\n",
       " '/data/EFAT/EFAT_RawData/PT/sub-184/RDPT184A_10_SPGR.nii',\n",
       " '/data/EFAT/EFAT_RawData/PT/sub-114/RDPT114A_10_SPGR.nii',\n",
       " '/data/EFAT/EFAT_RawData/PT/sub-051/RDPT051A_15_SPGR.nii',\n",
       " '/data/EFAT/EFAT_RawData/PT/sub-045/RDPT045A_12_SPGR.nii',\n",
       " '/data/EFAT/EFAT_RawData/PT/sub-083/RDPT083A_11_SPGR.nii',\n",
       " '/data/EFAT/EFAT_RawData/PT/sub-110/RDPT110A_10_SPGR.nii',\n",
       " '/data/EFAT/EFAT_RawData/PT/sub-117/RDPT117A_16_SPGR.nii',\n",
       " '/data/EFAT/EFAT_RawData/PT/sub-005/RDPT005A_12_SPGR.nii',\n",
       " '/data/EFAT/EFAT_RawData/PT/sub-084/RDPT084A_11_SPGR.nii',\n",
       " '/data/EFAT/EFAT_RawData/PT/sub-157/RDPT157A_09_SPGR.nii',\n",
       " '/data/EFAT/EFAT_RawData/PT/sub-074/RDPT074A_08_SPGR.nii',\n",
       " '/data/EFAT/EFAT_RawData/PT/sub-043/RDPT043A_11_SPGR.nii',\n",
       " '/data/EFAT/EFAT_RawData/PT/sub-011/RDPT011A_13_SPGR.nii',\n",
       " '/data/EFAT/EFAT_RawData/PT/sub-124/RDPT124A_10_SPGR.nii',\n",
       " '/data/EFAT/EFAT_RawData/PT/sub-183/RDPT183A_10_SPGR.nii',\n",
       " '/data/EFAT/EFAT_RawData/PT/sub-038/RDPT038A_11_SPGR.nii',\n",
       " '/data/EFAT/EFAT_RawData/PT/sub-201/RDPT201A_10_SPGR.nii',\n",
       " '/data/EFAT/EFAT_RawData/PT/sub-104/RDPT104A_10_SPGR.nii',\n",
       " '/data/EFAT/EFAT_RawData/PT/sub-096/RDPT096A_10_SPGR.nii',\n",
       " '/data/EFAT/EFAT_RawData/PT/sub-108/RDPT108B_14_SPGR.nii',\n",
       " '/data/EFAT/EFAT_RawData/PT/sub-118/RDPT118A_10_SPGR.nii',\n",
       " '/data/EFAT/EFAT_RawData/PT/sub-080/RDPT080A_13_SPGR.nii',\n",
       " '/data/EFAT/EFAT_RawData/PT/sub-175/RDPT175A_10_SPGR.nii',\n",
       " '/data/EFAT/EFAT_RawData/PT/sub-037/RDPT037A_15_SPGR.nii',\n",
       " '/data/EFAT/EFAT_RawData/PT/sub-206/RDPT206B_12_SPGR.nii',\n",
       " '/data/EFAT/EFAT_RawData/PT/sub-057/RDPT057A_11_SPGR.nii',\n",
       " '/data/EFAT/EFAT_RawData/PT/sub-102/RDPT102A_10_SPGR.nii',\n",
       " '/data/EFAT/EFAT_RawData/PT/sub-152/RDPT152A_10_SPGR.nii',\n",
       " '/data/EFAT/EFAT_RawData/PT/sub-169/RDPT169A_11_SPGR.nii',\n",
       " '/data/EFAT/EFAT_RawData/PT/sub-132/RDPT132A_10_SPGR.nii',\n",
       " '/data/EFAT/EFAT_RawData/PT/sub-138/RDPT138A_10_SPGR.nii',\n",
       " '/data/EFAT/EFAT_RawData/PT/sub-127/RDPT127A_10_SPGR.nii',\n",
       " '/data/EFAT/EFAT_RawData/PT/sub-078/RDPT078A_11_SPGR.nii',\n",
       " '/data/EFAT/EFAT_RawData/PT/sub-140/RDPT140A_15_SPGR.nii',\n",
       " '/data/EFAT/EFAT_RawData/PT/sub-106/RDPT106A_22_SPGR.nii',\n",
       " '/data/EFAT/EFAT_RawData/PT/sub-009/RDPT009A_14_SPGR.nii',\n",
       " '/data/EFAT/EFAT_RawData/PT/sub-156/RDPT156A_11_SPGR.nii',\n",
       " '/data/EFAT/EFAT_RawData/PT/sub-196/RDPT196A_10_SPGR.nii',\n",
       " '/data/EFAT/EFAT_RawData/PT/sub-053/RDPT053A_11_SPGR.nii',\n",
       " '/data/EFAT/EFAT_RawData/PT/sub-136/RDPT136A_10_SPGR.nii',\n",
       " '/data/EFAT/EFAT_RawData/PT/sub-069/RDPT069A_11_SPGR.nii',\n",
       " '/data/EFAT/EFAT_RawData/PT/sub-212/RDPT212A_10_SPGR.nii',\n",
       " '/data/EFAT/EFAT_RawData/PT/sub-018/RDPT018A_11_SPGR.nii',\n",
       " '/data/EFAT/EFAT_RawData/PT/sub-159/RDPT159A_10_SPGR.nii',\n",
       " '/data/EFAT/EFAT_RawData/PT/sub-113/RDPT113A_09_SPGR.nii',\n",
       " '/data/EFAT/EFAT_RawData/PT/sub-130/RDPT130A_10_SPGR.nii',\n",
       " '/data/EFAT/EFAT_RawData/PT/sub-197/RDPT197A_10_SPGR.nii',\n",
       " '/data/EFAT/EFAT_RawData/PT/sub-044/RDPT044A_11_SPGR.nii',\n",
       " '/data/EFAT/EFAT_RawData/PT/sub-095/RDPT095A_10_SPGR.nii',\n",
       " '/data/EFAT/EFAT_RawData/PT/sub-209/RDPT209A_10_SPGR.nii',\n",
       " '/data/EFAT/EFAT_RawData/PT/sub-143/RDPT143A_10_SPGR.nii',\n",
       " '/data/EFAT/EFAT_RawData/PT/sub-007/RDPT007A_12_SPGR.nii']"
      ]
     },
     "execution_count": 41,
     "metadata": {},
     "output_type": "execute_result"
    }
   ],
   "source": [
    "S1 = glob.glob('/data/EFAT/EFAT_RawData/PT/*/*_*_EFATS1.nii')\n",
    "S2 = glob.glob('/data/EFAT/EFAT_RawData/PT/*/*_*_EFATS2.nii')\n",
    "S3 = glob.glob('/data/EFAT/EFAT_RawData/PT/*/*_*_EFATS3.nii')\n",
    "S4 = glob.glob('/data/EFAT/EFAT_RawData/PT/*/*_*_EFATS4.nii')\n",
    "anat = glob.glob('/data/EFAT/EFAT_RawData/PT/*/*_*_SPGR.nii')\n",
    "anat"
   ]
  },
  {
   "cell_type": "code",
   "execution_count": 42,
   "metadata": {},
   "outputs": [],
   "source": [
    "for filename in S1:\n",
    "    os.rename(filename, \n",
    "              os.path.join(filename[0:34], \"{}{}{}{}{}\".format('sub-', filename[-18:-15], '_task-EFAT', '_run-01', '_bold.nii')))\n",
    "    \n",
    "for filename in S2:\n",
    "    os.rename(filename, \n",
    "              os.path.join(filename[0:34], \"{}{}{}{}{}\".format('sub-', filename[-18:-15], '_task-EFAT', '_run-02', '_bold.nii')))\n",
    "    \n",
    "for filename in S3:\n",
    "    os.rename(filename, \n",
    "              os.path.join(filename[0:34], \"{}{}{}{}{}\".format('sub-', filename[-18:-15], '_task-EFAT', '_run-03', '_bold.nii')))\n",
    "    \n",
    "for filename in S4:\n",
    "    os.rename(filename, \n",
    "              os.path.join(filename[0:34], \"{}{}{}{}{}\".format('sub-', filename[-18:-15], '_task-EFAT', '_run-04', '_bold.nii')))\n",
    "    \n",
    "for filename in anat:\n",
    "    os.rename(filename, \n",
    "             os.path.join(filename[0:34], \"{}{}{}{}\".format('sub-', filename[-16:-13], '_T1w', '.nii')))"
   ]
  },
  {
   "cell_type": "code",
   "execution_count": 43,
   "metadata": {},
   "outputs": [],
   "source": [
    "import shutil\n",
    "from pathlib import Path\n",
    "\n",
    "for filename in os.listdir(\".\"):\n",
    "    path_func = glob.glob('/data/EFAT/EFAT_RawData/PT/%s/sub-*_task-EFAT_run-*.nii' %filename)\n",
    "    \n",
    "    for funcfile in path_func:\n",
    "        if os.path.exists(funcfile) == True:\n",
    "            shutil.move(os.path.join(funcfile), os.path.join(funcfile[0:34], 'func', funcfile[35:]))\n",
    "            \n",
    "for filename in os.listdir(\".\"):\n",
    "    path_anat = glob.glob('/data/EFAT/EFAT_RawData/PT/%s/sub-*_T1w.nii' %filename)\n",
    "    \n",
    "    for anatfile in path_anat:\n",
    "        if os.path.exists(anatfile) == True:\n",
    "            shutil.move(os.path.join(anatfile), os.path.join(anatfile[0:34], 'anat', anatfile[35:]))"
   ]
  },
  {
   "cell_type": "markdown",
   "metadata": {},
   "source": [
    "# Make .tsv file"
   ]
  },
  {
   "cell_type": "code",
   "execution_count": 44,
   "metadata": {},
   "outputs": [],
   "source": [
    "from shutil import copyfile\n",
    "import os\n",
    "import glob"
   ]
  },
  {
   "cell_type": "code",
   "execution_count": 45,
   "metadata": {},
   "outputs": [],
   "source": [
    "os.chdir('/data/EFAT/EFAT_RawData/PT')"
   ]
  },
  {
   "cell_type": "code",
   "execution_count": 65,
   "metadata": {},
   "outputs": [
    {
     "data": {
      "text/plain": [
       "59"
      ]
     },
     "execution_count": 65,
     "metadata": {},
     "output_type": "execute_result"
    }
   ],
   "source": [
    "ses01 = glob.glob('/data/EFAT/EFAT_RawData/PT/sub-*/func/sub-*_task-EFAT_run-01_bold.nii')\n",
    "ses02 = glob.glob('/data/EFAT/EFAT_RawData/PT/sub-*/func/sub-*_task-EFAT_run-02_bold.nii')\n",
    "ses03 = glob.glob('/data/EFAT/EFAT_RawData/PT/sub-*/func/sub-*_task-EFAT_run-03_bold.nii')\n",
    "ses04 = glob.glob('/data/EFAT/EFAT_RawData/PT/sub-*/func/sub-*_task-EFAT_run-04_bold.nii')\n",
    "len(ses01)"
   ]
  },
  {
   "cell_type": "code",
   "execution_count": 50,
   "metadata": {},
   "outputs": [],
   "source": [
    "for filename in ses01:\n",
    "    copyfile('/data/EFAT/task-EFAT_ses-01_events.tsv',\n",
    "                     os.path.join(filename[0:40], \"{}{}{}{}{}\".format('sub-', filename[31:34], '_task-EFAT', '_run-01', '_events.tsv')))\n",
    "\n",
    "for filename in ses02:\n",
    "    copyfile('/data/EFAT/task-EFAT_ses-02_events.tsv',\n",
    "                     os.path.join(filename[0:40], \"{}{}{}{}{}\".format('sub-', filename[31:34], '_task-EFAT', '_run-02', '_events.tsv')))\n",
    "\n",
    "for filename in ses03:\n",
    "    copyfile('/data/EFAT/task-EFAT_ses-03_events.tsv',\n",
    "                     os.path.join(filename[0:40], \"{}{}{}{}{}\".format('sub-', filename[31:34], '_task-EFAT', '_run-03', '_events.tsv')))\n",
    "    \n",
    "for filename in ses04:\n",
    "    copyfile('/data/EFAT/task-EFAT_ses-04_events.tsv',\n",
    "                     os.path.join(filename[0:40], \"{}{}{}{}{}\".format('sub-', filename[31:34], '_task-EFAT', '_run-04', '_events.tsv')))"
   ]
  },
  {
   "cell_type": "markdown",
   "metadata": {},
   "source": [
    "# Change file names (run01-04 -> run01, 02)"
   ]
  },
  {
   "cell_type": "code",
   "execution_count": 51,
   "metadata": {},
   "outputs": [
    {
     "data": {
      "text/plain": [
       "['sub-031',\n",
       " 'sub-199',\n",
       " 'sub-081',\n",
       " 'sub-207',\n",
       " 'sub-120',\n",
       " 'sub-182',\n",
       " 'sub-027',\n",
       " 'sub-109',\n",
       " 'sub-063',\n",
       " 'sub-028',\n",
       " 'sub-082',\n",
       " 'sub-129',\n",
       " 'sub-105',\n",
       " 'sub-034',\n",
       " 'sub-058',\n",
       " 'sub-128',\n",
       " 'sub-097',\n",
       " 'sub-060',\n",
       " 'sub-047',\n",
       " 'sub-086',\n",
       " 'sub-068',\n",
       " 'sub-075',\n",
       " 'sub-049',\n",
       " 'sub-131',\n",
       " 'sub-125',\n",
       " 'sub-010',\n",
       " 'sub-087',\n",
       " 'sub-147',\n",
       " 'sub-141',\n",
       " 'sub-190',\n",
       " 'sub-162',\n",
       " 'sub-134',\n",
       " 'sub-014',\n",
       " 'sub-103',\n",
       " 'sub-193',\n",
       " 'sub-006',\n",
       " 'sub-066',\n",
       " 'sub-153',\n",
       " 'sub-171',\n",
       " 'sub-142',\n",
       " 'sub-205',\n",
       " 'sub-150',\n",
       " 'sub-146',\n",
       " 'sub-017',\n",
       " 'sub-016',\n",
       " 'sub-021',\n",
       " 'sub-033',\n",
       " 'sub-024',\n",
       " 'sub-042',\n",
       " 'sub-013',\n",
       " 'sub-168',\n",
       " 'sub-004',\n",
       " 'sub-003',\n",
       " 'sub-089',\n",
       " 'sub-121',\n",
       " 'sub-101',\n",
       " 'sub-184',\n",
       " 'sub-160',\n",
       " 'sub-114',\n",
       " 'sub-051',\n",
       " 'sub-045',\n",
       " 'sub-083',\n",
       " 'sub-110',\n",
       " 'sub-117',\n",
       " 'sub-005',\n",
       " 'sub-084',\n",
       " 'sub-074',\n",
       " 'sub-043',\n",
       " 'sub-011',\n",
       " 'sub-124',\n",
       " 'sub-181',\n",
       " 'sub-183',\n",
       " 'sub-038',\n",
       " 'sub-165',\n",
       " 'sub-201',\n",
       " 'sub-104',\n",
       " 'sub-096',\n",
       " 'sub-108',\n",
       " 'sub-118',\n",
       " 'sub-080',\n",
       " 'sub-175',\n",
       " 'sub-037',\n",
       " 'sub-206',\n",
       " 'sub-057',\n",
       " 'sub-102',\n",
       " 'sub-152',\n",
       " 'sub-169',\n",
       " 'sub-132',\n",
       " 'sub-138',\n",
       " 'sub-127',\n",
       " 'sub-078',\n",
       " 'sub-140',\n",
       " 'sub-106',\n",
       " 'sub-009',\n",
       " 'sub-156',\n",
       " 'sub-196',\n",
       " 'sub-053',\n",
       " 'sub-136',\n",
       " 'sub-069',\n",
       " 'sub-212',\n",
       " 'sub-018',\n",
       " 'sub-159',\n",
       " 'sub-113',\n",
       " 'sub-130',\n",
       " 'sub-197',\n",
       " 'sub-044',\n",
       " 'sub-095',\n",
       " 'sub-209',\n",
       " 'sub-143',\n",
       " 'sub-007']"
      ]
     },
     "execution_count": 51,
     "metadata": {},
     "output_type": "execute_result"
    }
   ],
   "source": [
    "os.listdir(\".\")"
   ]
  },
  {
   "cell_type": "code",
   "execution_count": 52,
   "metadata": {},
   "outputs": [],
   "source": [
    "from pathlib import Path"
   ]
  },
  {
   "cell_type": "code",
   "execution_count": 66,
   "metadata": {},
   "outputs": [],
   "source": [
    "# .nii files\n",
    "for filename in os.listdir(\".\"):\n",
    "        \n",
    "    path_efat = Path('/data/EFAT/EFAT_RawData/PT/%s/func' %filename)\n",
    "    a = list(path_efat.glob('sub-*_task-EFAT_run-*_bold.nii'))\n",
    "    a = sorted(a)\n",
    "    \n",
    "    c = str(a[0])\n",
    "    d = str(a[1])\n",
    "        \n",
    "    os.rename(c, \n",
    "              os.path.join(c[0:40], \"{}{}{}{}\".format(filename, '_task-EFAT', '_run-01', '_bold.nii')))\n",
    "    os.rename(d, \n",
    "              os.path.join(d[0:40], \"{}{}{}{}\".format(filename, '_task-EFAT', '_run-02', '_bold.nii')))"
   ]
  },
  {
   "cell_type": "code",
   "execution_count": 68,
   "metadata": {},
   "outputs": [],
   "source": [
    "# .tsv files\n",
    "for filename in os.listdir(\".\"):\n",
    "\n",
    "    path_efat = Path('/data/EFAT/EFAT_RawData/PT/%s/func' %filename)\n",
    "\n",
    "    b = list(path_efat.glob('sub-*_task-EFAT_run-*_events.tsv'))\n",
    "    b = sorted(b)\n",
    "\n",
    "    e = str(b[0])\n",
    "    f = str(b[1])\n",
    "    \n",
    "    os.rename(e, \n",
    "              os.path.join(e[0:40], \"{}{}{}{}\".format(filename, '_task-EFAT', '_run-01', '_events.tsv')))\n",
    "    os.rename(f, \n",
    "              os.path.join(f[0:40], \"{}{}{}{}\".format(filename, '_task-EFAT', '_run-02', '_events.tsv')))"
   ]
  },
  {
   "cell_type": "markdown",
   "metadata": {},
   "source": [
    "# Create .json file"
   ]
  },
  {
   "cell_type": "code",
   "execution_count": 69,
   "metadata": {},
   "outputs": [],
   "source": [
    "import json\n",
    "from collections import OrderedDict\n",
    "\n",
    "data= OrderedDict()\n",
    "#General fields, shared with MRI BIDS and MEG BIDS:\n",
    "#Required fields:\n",
    "#name of the dataset\n",
    "data['Name'] = 'EFAT_bids'\n",
    "\n",
    "#The version of the BIDS standard that was used\n",
    "data['BIDSVersion'] = '1.0.2'\n",
    "\n",
    "#List of individuals who contributed to the creation/curation of the dataset\n",
    "# data['Authors'] = ['Zhong-Lin Lu','William Cunningham']\n",
    "\n",
    "root_dir = './'\n",
    "\n",
    "dataset_json_folder = root_dir\n",
    "dataset_json_name=dataset_json_folder+'/'+'dataset_description.json'\n",
    "\n",
    "with open(dataset_json_name, 'w') as ff:\n",
    "    json.dump(data, ff,sort_keys=False, indent=4)"
   ]
  },
  {
   "cell_type": "code",
   "execution_count": 3,
   "metadata": {},
   "outputs": [],
   "source": [
    "# anat .json\n",
    "import json\n",
    "from collections import OrderedDict\n",
    "for filename in os.listdir(\".\"):\n",
    "    if os.path.exists(os.path.join(filename, 'anat')) == True:\n",
    "        data= OrderedDict()\n",
    "        data['RepetitionTime'] = 2.0\n",
    "        data['EchoTime'] = 0.0222\n",
    "        data['FlipAngle'] = 90\n",
    "        data['TaskName'] = 'EFAT'\n",
    "        data['Manufacturer'] = 'SIEMENS'\n",
    "        data['ManufaturersModelName'] = 'TrioTim'\n",
    "        data['SliceTiming'] = [0.        , 0.04545455, 0.09090909, 0.13636364, 0.18181818,\n",
    "                               0.22727273, 0.27272727, 0.31818182, 0.36363636, 0.40909091,\n",
    "                               0.45454545, 0.5       , 0.54545455, 0.59090909, 0.63636364,\n",
    "                               0.68181818, 0.72727273, 0.77272727, 0.81818182, 0.86363636,\n",
    "                               0.90909091, 0.95454545, 1.        , 1.04545455, 1.09090909,\n",
    "                               1.13636364, 1.18181818, 1.22727273, 1.27272727, 1.31818182,\n",
    "                               1.36363636, 1.40909091, 1.45454545, 1.5       , 1.54545455,\n",
    "                               1.59090909, 1.63636364, 1.68181818, 1.72727273, 1.77272727,\n",
    "                               1.81818182, 1.86363636, 1.90909091, 1.95454545]\n",
    "       \n",
    "        root_dir = './'\n",
    "        dataset_json_folder = root_dir + filename + '/anat/'\n",
    "        dataset_json_name= dataset_json_folder + \"{}{}\".format(filename,'_T1w.json')\n",
    "        with open(dataset_json_name, 'w') as ff:\n",
    "            json.dump(data, ff,sort_keys=False, indent=4)"
   ]
  },
  {
   "cell_type": "code",
   "execution_count": 4,
   "metadata": {},
   "outputs": [],
   "source": [
    "# func .json\n",
    "import json\n",
    "from collections import OrderedDict\n",
    "\n",
    "for filename in os.listdir(\".\"):\n",
    "        if os.path.exists(os.path.join(filename, 'func')) == True:        \n",
    "            data= OrderedDict()\n",
    "            data['RepetitionTime'] = 2.0\n",
    "            data['EchoTime'] = 0.0222\n",
    "            data['FlipAngle'] = 90\n",
    "            data['TaskName'] = 'EFAT'\n",
    "            data['Manufacturer'] = 'SIEMENS'\n",
    "            data['ManufaturersModelName'] = 'TrioTim'\n",
    "            data['SliceTiming'] = [0.        , 0.04545455, 0.09090909, 0.13636364, 0.18181818,\n",
    "                                   0.22727273, 0.27272727, 0.31818182, 0.36363636, 0.40909091,\n",
    "                                   0.45454545, 0.5       , 0.54545455, 0.59090909, 0.63636364,\n",
    "                                   0.68181818, 0.72727273, 0.77272727, 0.81818182, 0.86363636,\n",
    "                                   0.90909091, 0.95454545, 1.        , 1.04545455, 1.09090909,\n",
    "                                   1.13636364, 1.18181818, 1.22727273, 1.27272727, 1.31818182,\n",
    "                                   1.36363636, 1.40909091, 1.45454545, 1.5       , 1.54545455,\n",
    "                                   1.59090909, 1.63636364, 1.68181818, 1.72727273, 1.77272727,\n",
    "                                   1.81818182, 1.86363636, 1.90909091, 1.95454545]\n",
    "            \n",
    "            root_dir = './'\n",
    "            dataset_json_folder = root_dir + filename + '/func/'\n",
    "            dataset_json_name= dataset_json_folder + \"{}{}{}\".format(filename,'_task-EFAT', '_bold.json')\n",
    "            with open(dataset_json_name, 'w') as ff:\n",
    "                json.dump(data, ff,sort_keys=False, indent=4)"
   ]
  },
  {
   "cell_type": "markdown",
   "metadata": {},
   "source": [
    "# Check"
   ]
  },
  {
   "cell_type": "code",
   "execution_count": 72,
   "metadata": {},
   "outputs": [],
   "source": [
    "import filecmp"
   ]
  },
  {
   "cell_type": "code",
   "execution_count": 73,
   "metadata": {},
   "outputs": [],
   "source": [
    "a = ('/data/EFAT/EFAT_RawData/PT/sub-003/func/sub-003_task-EFAT_run-01_bold.nii')\n",
    "b = ('/data/EFAT/compare/EFAT_RawData/RDPT003/RDPT003A_08_EFATS1.nii')"
   ]
  },
  {
   "cell_type": "code",
   "execution_count": 74,
   "metadata": {},
   "outputs": [
    {
     "data": {
      "text/plain": [
       "True"
      ]
     },
     "execution_count": 74,
     "metadata": {},
     "output_type": "execute_result"
    }
   ],
   "source": [
    "filecmp.cmp(a, b)"
   ]
  },
  {
   "cell_type": "code",
   "execution_count": 75,
   "metadata": {},
   "outputs": [],
   "source": [
    "c = ('/data/EFAT/EFAT_RawData/PT/sub-003/func/sub-003_task-EFAT_run-01_events.tsv')\n",
    "d = ('/data/EFAT/task-EFAT_ses-01_events.tsv')"
   ]
  },
  {
   "cell_type": "code",
   "execution_count": 76,
   "metadata": {},
   "outputs": [
    {
     "data": {
      "text/plain": [
       "True"
      ]
     },
     "execution_count": 76,
     "metadata": {},
     "output_type": "execute_result"
    }
   ],
   "source": [
    "filecmp.cmp(c, d)"
   ]
  },
  {
   "cell_type": "code",
   "execution_count": 79,
   "metadata": {},
   "outputs": [],
   "source": [
    "import nibabel as nib\n",
    "img = nib.load('/data/EFAT/EFAT_RawData/PT/sub-129/func/sub-129_task-EFAT_run-02_bold.nii')"
   ]
  },
  {
   "cell_type": "code",
   "execution_count": 80,
   "metadata": {},
   "outputs": [],
   "source": [
    "data = img.get_data()"
   ]
  },
  {
   "cell_type": "code",
   "execution_count": 82,
   "metadata": {},
   "outputs": [
    {
     "data": {
      "text/plain": [
       "(512, 512, 5)"
      ]
     },
     "execution_count": 82,
     "metadata": {},
     "output_type": "execute_result"
    }
   ],
   "source": [
    "data.shape"
   ]
  },
  {
   "cell_type": "code",
   "execution_count": null,
   "metadata": {},
   "outputs": [],
   "source": []
  }
 ],
 "metadata": {
  "kernelspec": {
   "display_name": "Python 3",
   "language": "python",
   "name": "python3"
  },
  "language_info": {
   "codemirror_mode": {
    "name": "ipython",
    "version": 3
   },
   "file_extension": ".py",
   "mimetype": "text/x-python",
   "name": "python",
   "nbconvert_exporter": "python",
   "pygments_lexer": "ipython3",
   "version": "3.6.5"
  }
 },
 "nbformat": 4,
 "nbformat_minor": 2
}
