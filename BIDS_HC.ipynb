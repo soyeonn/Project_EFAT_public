{
 "cells": [
  {
   "cell_type": "markdown",
   "metadata": {},
   "source": [
    "# Rename & Move files"
   ]
  },
  {
   "cell_type": "code",
   "execution_count": 4,
   "metadata": {},
   "outputs": [],
   "source": [
    "import os\n",
    "import glob\n",
    "os.chdir('/data/EFAT/EFAT_RawData/HC')"
   ]
  },
  {
   "cell_type": "code",
   "execution_count": 38,
   "metadata": {},
   "outputs": [
    {
     "data": {
      "text/plain": [
       "['RDHC038',\n",
       " 'RDHC030',\n",
       " 'RDHC042',\n",
       " 'RDHC013',\n",
       " 'RDHC001',\n",
       " 'RDHC032',\n",
       " 'RDHC015',\n",
       " 'RDHC021',\n",
       " 'RDHC036',\n",
       " 'RDHC025',\n",
       " 'RDHC039',\n",
       " 'RDHC051',\n",
       " 'RDHC019',\n",
       " 'RDHC055',\n",
       " 'RDHC056',\n",
       " 'RDHC005',\n",
       " 'RDHC007',\n",
       " 'RDHC003',\n",
       " 'RDHC004',\n",
       " 'RDHC054',\n",
       " 'RDHC006',\n",
       " 'RDHC059',\n",
       " 'RDHC010',\n",
       " 'RDHC026',\n",
       " 'RDHC022',\n",
       " 'RDHC041',\n",
       " 'RDHC058',\n",
       " 'RDHC014',\n",
       " 'RDHC023',\n",
       " 'RDHC024',\n",
       " 'RDHC046',\n",
       " 'RDHC034',\n",
       " 'RDHC045',\n",
       " 'RDHC008',\n",
       " 'RDHC016',\n",
       " 'RDHC037',\n",
       " 'RDHC009',\n",
       " 'RDHC052',\n",
       " 'RDHC050',\n",
       " 'RDHC029',\n",
       " 'RDHC027']"
      ]
     },
     "execution_count": 38,
     "metadata": {},
     "output_type": "execute_result"
    }
   ],
   "source": [
    "os.listdir(\".\")"
   ]
  },
  {
   "cell_type": "code",
   "execution_count": 39,
   "metadata": {},
   "outputs": [],
   "source": [
    "for filename in os.listdir(\".\"):\n",
    "        os.rename(filename, \"{}{}\".format('sub-',filename[4:7]))"
   ]
  },
  {
   "cell_type": "code",
   "execution_count": 40,
   "metadata": {},
   "outputs": [],
   "source": [
    "for filename in os.listdir(\".\"):\n",
    "    os.makedirs(os.path.join(filename, 'anat'))\n",
    "\n",
    "for filename in os.listdir(\".\"):\n",
    "    os.makedirs(os.path.join(filename, 'func')) "
   ]
  },
  {
   "cell_type": "code",
   "execution_count": 48,
   "metadata": {},
   "outputs": [
    {
     "data": {
      "text/plain": [
       "['/data/EFAT/EFAT_RawData/HC/sub-027/RDHC027A_11_SPGR.nii',\n",
       " '/data/EFAT/EFAT_RawData/HC/sub-041/RDHC041A_13_SPGR.nii',\n",
       " '/data/EFAT/EFAT_RawData/HC/sub-034/RDHC034A_10_SPGR.nii',\n",
       " '/data/EFAT/EFAT_RawData/HC/sub-058/RDHC058A_10_SPGR.nii',\n",
       " '/data/EFAT/EFAT_RawData/HC/sub-010/RDHC010A_15_SPGR.nii',\n",
       " '/data/EFAT/EFAT_RawData/HC/sub-059/RDHC059A_10_SPGR.nii',\n",
       " '/data/EFAT/EFAT_RawData/HC/sub-029/RDHC029A_11_SPGR.nii',\n",
       " '/data/EFAT/EFAT_RawData/HC/sub-019/RDHC019A_04_SPGR.nii',\n",
       " '/data/EFAT/EFAT_RawData/HC/sub-015/RDHC015A_13_SPGR.nii',\n",
       " '/data/EFAT/EFAT_RawData/HC/sub-014/RDHC014A_12_SPGR.nii',\n",
       " '/data/EFAT/EFAT_RawData/HC/sub-026/RDHC026A_11_SPGR.nii',\n",
       " '/data/EFAT/EFAT_RawData/HC/sub-006/RDHC006A_14_SPGR.nii',\n",
       " '/data/EFAT/EFAT_RawData/HC/sub-016/RDHC016A_15_SPGR.nii',\n",
       " '/data/EFAT/EFAT_RawData/HC/sub-022/RDHC022A_11_SPGR.nii',\n",
       " '/data/EFAT/EFAT_RawData/HC/sub-021/RDHC021A_14_SPGR.nii',\n",
       " '/data/EFAT/EFAT_RawData/HC/sub-055/RDHC055A_14_SPGR.nii',\n",
       " '/data/EFAT/EFAT_RawData/HC/sub-024/RDHC024A_11_SPGR.nii',\n",
       " '/data/EFAT/EFAT_RawData/HC/sub-054/RDHC054B_11_SPGR.nii',\n",
       " '/data/EFAT/EFAT_RawData/HC/sub-056/RDHC056A_10_SPGR.nii',\n",
       " '/data/EFAT/EFAT_RawData/HC/sub-042/RDHC042A_10_SPGR.nii',\n",
       " '/data/EFAT/EFAT_RawData/HC/sub-013/RDHC013A_12_SPGR.nii',\n",
       " '/data/EFAT/EFAT_RawData/HC/sub-004/RDHC004A_11_SPGR.nii',\n",
       " '/data/EFAT/EFAT_RawData/HC/sub-003/RDHC003A_11_SPGR.nii',\n",
       " '/data/EFAT/EFAT_RawData/HC/sub-008/RDHC008A_12_SPGR.nii',\n",
       " '/data/EFAT/EFAT_RawData/HC/sub-030/RDHC030A_14_SPGR.nii',\n",
       " '/data/EFAT/EFAT_RawData/HC/sub-051/RDHC051B_12_SPGR.nii',\n",
       " '/data/EFAT/EFAT_RawData/HC/sub-052/RDHC052A_10_SPGR.nii',\n",
       " '/data/EFAT/EFAT_RawData/HC/sub-005/RDHC005A_11_SPGR.nii',\n",
       " '/data/EFAT/EFAT_RawData/HC/sub-032/RDHC032A_10_SPGR.nii',\n",
       " '/data/EFAT/EFAT_RawData/HC/sub-039/RDHC039A_10_SPGR.nii',\n",
       " '/data/EFAT/EFAT_RawData/HC/sub-038/RDHC038A_10_SPGR.nii',\n",
       " '/data/EFAT/EFAT_RawData/HC/sub-025/RDHC025A_12_SPGR.nii',\n",
       " '/data/EFAT/EFAT_RawData/HC/sub-037/RDHC037B_11_SPGR.nii',\n",
       " '/data/EFAT/EFAT_RawData/HC/sub-036/RDHC036A_13_SPGR.nii',\n",
       " '/data/EFAT/EFAT_RawData/HC/sub-009/RDHC009A_12_SPGR.nii',\n",
       " '/data/EFAT/EFAT_RawData/HC/sub-001/RDHC001A_11_SPGR.nii',\n",
       " '/data/EFAT/EFAT_RawData/HC/sub-023/RDHC023A_10_SPGR.nii',\n",
       " '/data/EFAT/EFAT_RawData/HC/sub-007/RDHC007A_20_SPGR.nii']"
      ]
     },
     "execution_count": 48,
     "metadata": {},
     "output_type": "execute_result"
    }
   ],
   "source": [
    "S1 = glob.glob('/data/EFAT/EFAT_RawData/HC/*/*_*_EFATS1.nii')\n",
    "S2 = glob.glob('/data/EFAT/EFAT_RawData/HC/*/*_*_EFATS2.nii')\n",
    "S3 = glob.glob('/data/EFAT/EFAT_RawData/HC/*/*_*_EFATS3.nii')\n",
    "S4 = glob.glob('/data/EFAT/EFAT_RawData/HC/*/*_*_EFATS4.nii')\n",
    "anat = glob.glob('/data/EFAT/EFAT_RawData/HC/*/*_*_SPGR.nii')\n",
    "anat"
   ]
  },
  {
   "cell_type": "code",
   "execution_count": 49,
   "metadata": {},
   "outputs": [],
   "source": [
    "for filename in S1:\n",
    "    os.rename(filename, \n",
    "              os.path.join(filename[0:34], \"{}{}{}{}{}\".format('sub-', filename[-18:-15], '_task-EFAT', '_run-01', '_bold.nii')))\n",
    "    \n",
    "for filename in S2:\n",
    "    os.rename(filename, \n",
    "              os.path.join(filename[0:34], \"{}{}{}{}{}\".format('sub-', filename[-18:-15], '_task-EFAT', '_run-02', '_bold.nii')))\n",
    "    \n",
    "for filename in S3:\n",
    "    os.rename(filename, \n",
    "              os.path.join(filename[0:34], \"{}{}{}{}{}\".format('sub-', filename[-18:-15], '_task-EFAT', '_run-03', '_bold.nii')))\n",
    "    \n",
    "for filename in S4:\n",
    "    os.rename(filename, \n",
    "              os.path.join(filename[0:34], \"{}{}{}{}{}\".format('sub-', filename[-18:-15], '_task-EFAT', '_run-04', '_bold.nii')))\n",
    "    \n",
    "for filename in anat:\n",
    "    os.rename(filename, \n",
    "             os.path.join(filename[0:34], \"{}{}{}{}\".format('sub-', filename[-16:-13], '_T1w', '.nii')))"
   ]
  },
  {
   "cell_type": "code",
   "execution_count": 50,
   "metadata": {},
   "outputs": [],
   "source": [
    "import shutil\n",
    "from pathlib import Path\n",
    "\n",
    "for filename in os.listdir(\".\"):\n",
    "    path_func = glob.glob('/data/EFAT/EFAT_RawData/HC/%s/sub-*_task-EFAT_run-*.nii' %filename)\n",
    "    \n",
    "    for funcfile in path_func:\n",
    "        if os.path.exists(funcfile) == True:\n",
    "            shutil.move(os.path.join(funcfile), os.path.join(funcfile[0:34], 'func', funcfile[35:]))\n",
    "            \n",
    "for filename in os.listdir(\".\"):\n",
    "    path_anat = glob.glob('/data/EFAT/EFAT_RawData/HC/%s/sub-*_T1w.nii' %filename)\n",
    "    \n",
    "    for anatfile in path_anat:\n",
    "        if os.path.exists(anatfile) == True:\n",
    "            shutil.move(os.path.join(anatfile), os.path.join(anatfile[0:34], 'anat', anatfile[35:]))"
   ]
  },
  {
   "cell_type": "markdown",
   "metadata": {},
   "source": [
    "# Make .tsv file"
   ]
  },
  {
   "cell_type": "code",
   "execution_count": 51,
   "metadata": {},
   "outputs": [],
   "source": [
    "from shutil import copyfile\n",
    "import os\n",
    "import glob"
   ]
  },
  {
   "cell_type": "code",
   "execution_count": 52,
   "metadata": {},
   "outputs": [],
   "source": [
    "os.chdir('/data/EFAT/EFAT_RawData/HC')"
   ]
  },
  {
   "cell_type": "code",
   "execution_count": 57,
   "metadata": {},
   "outputs": [
    {
     "data": {
      "text/plain": [
       "['/data/EFAT/EFAT_RawData/HC/sub-027/func/sub-027_task-EFAT_run-04_bold.nii',\n",
       " '/data/EFAT/EFAT_RawData/HC/sub-041/func/sub-041_task-EFAT_run-04_bold.nii',\n",
       " '/data/EFAT/EFAT_RawData/HC/sub-058/func/sub-058_task-EFAT_run-04_bold.nii',\n",
       " '/data/EFAT/EFAT_RawData/HC/sub-029/func/sub-029_task-EFAT_run-04_bold.nii',\n",
       " '/data/EFAT/EFAT_RawData/HC/sub-019/func/sub-019_task-EFAT_run-04_bold.nii',\n",
       " '/data/EFAT/EFAT_RawData/HC/sub-015/func/sub-015_task-EFAT_run-04_bold.nii',\n",
       " '/data/EFAT/EFAT_RawData/HC/sub-014/func/sub-014_task-EFAT_run-04_bold.nii',\n",
       " '/data/EFAT/EFAT_RawData/HC/sub-006/func/sub-006_task-EFAT_run-04_bold.nii',\n",
       " '/data/EFAT/EFAT_RawData/HC/sub-024/func/sub-024_task-EFAT_run-04_bold.nii',\n",
       " '/data/EFAT/EFAT_RawData/HC/sub-054/func/sub-054_task-EFAT_run-04_bold.nii',\n",
       " '/data/EFAT/EFAT_RawData/HC/sub-013/func/sub-013_task-EFAT_run-04_bold.nii',\n",
       " '/data/EFAT/EFAT_RawData/HC/sub-003/func/sub-003_task-EFAT_run-04_bold.nii',\n",
       " '/data/EFAT/EFAT_RawData/HC/sub-030/func/sub-030_task-EFAT_run-04_bold.nii',\n",
       " '/data/EFAT/EFAT_RawData/HC/sub-052/func/sub-052_task-EFAT_run-04_bold.nii',\n",
       " '/data/EFAT/EFAT_RawData/HC/sub-032/func/sub-032_task-EFAT_run-04_bold.nii',\n",
       " '/data/EFAT/EFAT_RawData/HC/sub-039/func/sub-039_task-EFAT_run-04_bold.nii',\n",
       " '/data/EFAT/EFAT_RawData/HC/sub-046/func/sub-046_task-EFAT_run-04_bold.nii',\n",
       " '/data/EFAT/EFAT_RawData/HC/sub-025/func/sub-025_task-EFAT_run-04_bold.nii',\n",
       " '/data/EFAT/EFAT_RawData/HC/sub-037/func/sub-037_task-EFAT_run-04_bold.nii',\n",
       " '/data/EFAT/EFAT_RawData/HC/sub-036/func/sub-036_task-EFAT_run-04_bold.nii',\n",
       " '/data/EFAT/EFAT_RawData/HC/sub-009/func/sub-009_task-EFAT_run-04_bold.nii']"
      ]
     },
     "execution_count": 57,
     "metadata": {},
     "output_type": "execute_result"
    }
   ],
   "source": [
    "ses01 = glob.glob('/data/EFAT/EFAT_RawData/HC/sub-*/func/sub-*_task-EFAT_run-01_bold.nii')\n",
    "ses02 = glob.glob('/data/EFAT/EFAT_RawData/HC/sub-*/func/sub-*_task-EFAT_run-02_bold.nii')\n",
    "ses03 = glob.glob('/data/EFAT/EFAT_RawData/HC/sub-*/func/sub-*_task-EFAT_run-03_bold.nii')\n",
    "ses04 = glob.glob('/data/EFAT/EFAT_RawData/HC/sub-*/func/sub-*_task-EFAT_run-04_bold.nii')\n",
    "ses04"
   ]
  },
  {
   "cell_type": "code",
   "execution_count": 58,
   "metadata": {},
   "outputs": [],
   "source": [
    "for filename in ses01:\n",
    "    copyfile('/data/EFAT/task-EFAT_ses-01_events.tsv',\n",
    "                     os.path.join(filename[0:40], \"{}{}{}{}{}\".format('sub-', filename[31:34], '_task-EFAT', '_run-01', '_events.tsv')))\n",
    "\n",
    "for filename in ses02:\n",
    "    copyfile('/data/EFAT/task-EFAT_ses-02_events.tsv',\n",
    "                     os.path.join(filename[0:40], \"{}{}{}{}{}\".format('sub-', filename[31:34], '_task-EFAT', '_run-02', '_events.tsv')))\n",
    "\n",
    "for filename in ses03:\n",
    "    copyfile('/data/EFAT/task-EFAT_ses-03_events.tsv',\n",
    "                     os.path.join(filename[0:40], \"{}{}{}{}{}\".format('sub-', filename[31:34], '_task-EFAT', '_run-03', '_events.tsv')))\n",
    "    \n",
    "for filename in ses04:\n",
    "    copyfile('/data/EFAT/task-EFAT_ses-04_events.tsv',\n",
    "                     os.path.join(filename[0:40], \"{}{}{}{}{}\".format('sub-', filename[31:34], '_task-EFAT', '_run-04', '_events.tsv')))"
   ]
  },
  {
   "cell_type": "markdown",
   "metadata": {},
   "source": [
    "# Change file names (run01-04 -> run01, run02)"
   ]
  },
  {
   "cell_type": "code",
   "execution_count": 59,
   "metadata": {},
   "outputs": [
    {
     "data": {
      "text/plain": [
       "['sub-027',\n",
       " 'sub-041',\n",
       " 'sub-034',\n",
       " 'sub-058',\n",
       " 'sub-010',\n",
       " 'sub-059',\n",
       " 'sub-029',\n",
       " 'sub-019',\n",
       " 'sub-015',\n",
       " 'sub-014',\n",
       " 'sub-026',\n",
       " 'sub-006',\n",
       " 'sub-016',\n",
       " 'sub-022',\n",
       " 'sub-021',\n",
       " 'sub-055',\n",
       " 'sub-024',\n",
       " 'sub-054',\n",
       " 'sub-056',\n",
       " 'sub-042',\n",
       " 'sub-013',\n",
       " 'sub-004',\n",
       " 'sub-003',\n",
       " 'sub-008',\n",
       " 'sub-030',\n",
       " 'sub-051',\n",
       " 'sub-052',\n",
       " 'sub-045',\n",
       " 'sub-005',\n",
       " 'sub-032',\n",
       " 'sub-039',\n",
       " 'sub-038',\n",
       " 'sub-046',\n",
       " 'sub-025',\n",
       " 'sub-037',\n",
       " 'sub-036',\n",
       " 'sub-009',\n",
       " 'sub-050',\n",
       " 'sub-001',\n",
       " 'sub-023',\n",
       " 'sub-007']"
      ]
     },
     "execution_count": 59,
     "metadata": {},
     "output_type": "execute_result"
    }
   ],
   "source": [
    "os.listdir(\".\")"
   ]
  },
  {
   "cell_type": "code",
   "execution_count": 60,
   "metadata": {},
   "outputs": [],
   "source": [
    "from pathlib import Path"
   ]
  },
  {
   "cell_type": "code",
   "execution_count": 61,
   "metadata": {},
   "outputs": [],
   "source": [
    "# .nii files\n",
    "for filename in os.listdir(\".\"):\n",
    "        \n",
    "    path_efat = Path('/data/EFAT/EFAT_RawData/HC/%s/func' %filename)\n",
    "    a = list(path_efat.glob('sub-*_task-EFAT_run-*_bold.nii'))\n",
    "    a = sorted(a)\n",
    "    \n",
    "    c = str(a[0])\n",
    "    d = str(a[1])\n",
    "        \n",
    "    os.rename(c, \n",
    "              os.path.join(c[0:40], \"{}{}{}{}\".format(filename, '_task-EFAT', '_run-01', '_bold.nii')))\n",
    "    os.rename(d, \n",
    "              os.path.join(d[0:40], \"{}{}{}{}\".format(filename, '_task-EFAT', '_run-02', '_bold.nii')))\n",
    "        "
   ]
  },
  {
   "cell_type": "code",
   "execution_count": 62,
   "metadata": {},
   "outputs": [],
   "source": [
    "# .tsv files\n",
    "for filename in os.listdir(\".\"):\n",
    "\n",
    "    path_efat = Path('/data/EFAT/EFAT_RawData/HC/%s/func' %filename)\n",
    "\n",
    "    b = list(path_efat.glob('sub-*_task-EFAT_run-*_events.tsv'))\n",
    "    b = sorted(b)\n",
    "\n",
    "    e = str(b[0])\n",
    "    f = str(b[1])\n",
    "    \n",
    "    os.rename(e, \n",
    "              os.path.join(e[0:40], \"{}{}{}{}\".format(filename, '_task-EFAT', '_run-01', '_events.tsv')))\n",
    "    os.rename(f, \n",
    "              os.path.join(f[0:40], \"{}{}{}{}\".format(filename, '_task-EFAT', '_run-02', '_events.tsv')))"
   ]
  },
  {
   "cell_type": "markdown",
   "metadata": {},
   "source": [
    "# Create .json file"
   ]
  },
  {
   "cell_type": "code",
   "execution_count": 63,
   "metadata": {},
   "outputs": [],
   "source": [
    "import json\n",
    "from collections import OrderedDict\n",
    "\n",
    "data= OrderedDict()\n",
    "#General fields, shared with MRI BIDS and MEG BIDS:\n",
    "#Required fields:\n",
    "#name of the dataset\n",
    "data['Name'] = 'EFAT_bids'\n",
    "\n",
    "#The version of the BIDS standard that was used\n",
    "data['BIDSVersion'] = '1.0.2'\n",
    "\n",
    "#List of individuals who contributed to the creation/curation of the dataset\n",
    "# data['Authors'] = ['Zhong-Lin Lu','William Cunningham']\n",
    "\n",
    "root_dir = './'\n",
    "\n",
    "dataset_json_folder = root_dir\n",
    "dataset_json_name=dataset_json_folder+'/'+'dataset_description.json'\n",
    "\n",
    "with open(dataset_json_name, 'w') as ff:\n",
    "    json.dump(data, ff,sort_keys=False, indent=4)"
   ]
  },
  {
   "cell_type": "code",
   "execution_count": 2,
   "metadata": {},
   "outputs": [
    {
     "data": {
      "text/plain": [
       "array([0.        , 0.04545455, 0.09090909, 0.13636364, 0.18181818,\n",
       "       0.22727273, 0.27272727, 0.31818182, 0.36363636, 0.40909091,\n",
       "       0.45454545, 0.5       , 0.54545455, 0.59090909, 0.63636364,\n",
       "       0.68181818, 0.72727273, 0.77272727, 0.81818182, 0.86363636,\n",
       "       0.90909091, 0.95454545, 1.        , 1.04545455, 1.09090909,\n",
       "       1.13636364, 1.18181818, 1.22727273, 1.27272727, 1.31818182,\n",
       "       1.36363636, 1.40909091, 1.45454545, 1.5       , 1.54545455,\n",
       "       1.59090909, 1.63636364, 1.68181818, 1.72727273, 1.77272727,\n",
       "       1.81818182, 1.86363636, 1.90909091, 1.95454545])"
      ]
     },
     "execution_count": 2,
     "metadata": {},
     "output_type": "execute_result"
    }
   ],
   "source": [
    "import numpy as np\n",
    "TR = 2\n",
    "n_slices = 44\n",
    "last_slice = TR - TR/n_slices\n",
    "st_estimated = np.linspace(0, last_slice, n_slices)\n",
    "st_estimated"
   ]
  },
  {
   "cell_type": "code",
   "execution_count": 6,
   "metadata": {},
   "outputs": [],
   "source": [
    "# anat .json\n",
    "import json\n",
    "from collections import OrderedDict\n",
    "for filename in os.listdir(\".\"):\n",
    "    if os.path.exists(os.path.join(filename, 'anat')) == True:\n",
    "        data= OrderedDict()\n",
    "        data['RepetitionTime'] = 2.0\n",
    "        data['EchoTime'] = 0.0222\n",
    "        data['FlipAngle'] = 90\n",
    "        data['TaskName'] = 'EFAT'\n",
    "        data['Manufacturer'] = 'SIEMENS'\n",
    "        data['ManufaturersModelName'] = 'TrioTim'\n",
    "        data['SliceTiming'] = [0.        , 0.04545455, 0.09090909, 0.13636364, 0.18181818,\n",
    "                               0.22727273, 0.27272727, 0.31818182, 0.36363636, 0.40909091,\n",
    "                               0.45454545, 0.5       , 0.54545455, 0.59090909, 0.63636364,\n",
    "                               0.68181818, 0.72727273, 0.77272727, 0.81818182, 0.86363636,\n",
    "                               0.90909091, 0.95454545, 1.        , 1.04545455, 1.09090909,\n",
    "                               1.13636364, 1.18181818, 1.22727273, 1.27272727, 1.31818182,\n",
    "                               1.36363636, 1.40909091, 1.45454545, 1.5       , 1.54545455,\n",
    "                               1.59090909, 1.63636364, 1.68181818, 1.72727273, 1.77272727,\n",
    "                               1.81818182, 1.86363636, 1.90909091, 1.95454545]\n",
    "       \n",
    "        root_dir = './'\n",
    "        dataset_json_folder = root_dir + filename + '/anat/'\n",
    "        dataset_json_name= dataset_json_folder + \"{}{}\".format(filename,'_T1w.json')\n",
    "        with open(dataset_json_name, 'w') as ff:\n",
    "            json.dump(data, ff,sort_keys=False, indent=4)"
   ]
  },
  {
   "cell_type": "code",
   "execution_count": 7,
   "metadata": {},
   "outputs": [],
   "source": [
    "# func .json\n",
    "import json\n",
    "from collections import OrderedDict\n",
    "\n",
    "for filename in os.listdir(\".\"):\n",
    "        if os.path.exists(os.path.join(filename, 'func')) == True:        \n",
    "            data= OrderedDict()\n",
    "            data['RepetitionTime'] = 2.0\n",
    "            data['EchoTime'] = 0.0222\n",
    "            data['FlipAngle'] = 90\n",
    "            data['TaskName'] = 'EFAT'\n",
    "            data['Manufacturer'] = 'SIEMENS'\n",
    "            data['ManufaturersModelName'] = 'TrioTim'\n",
    "            data['SliceTiming'] = [0.        , 0.04545455, 0.09090909, 0.13636364, 0.18181818,\n",
    "                                   0.22727273, 0.27272727, 0.31818182, 0.36363636, 0.40909091,\n",
    "                                   0.45454545, 0.5       , 0.54545455, 0.59090909, 0.63636364,\n",
    "                                   0.68181818, 0.72727273, 0.77272727, 0.81818182, 0.86363636,\n",
    "                                   0.90909091, 0.95454545, 1.        , 1.04545455, 1.09090909,\n",
    "                                   1.13636364, 1.18181818, 1.22727273, 1.27272727, 1.31818182,\n",
    "                                   1.36363636, 1.40909091, 1.45454545, 1.5       , 1.54545455,\n",
    "                                   1.59090909, 1.63636364, 1.68181818, 1.72727273, 1.77272727,\n",
    "                                   1.81818182, 1.86363636, 1.90909091, 1.95454545]\n",
    "            \n",
    "            root_dir = './'\n",
    "            dataset_json_folder = root_dir + filename + '/func/'\n",
    "            dataset_json_name= dataset_json_folder + \"{}{}{}\".format(filename,'_task-EFAT', '_bold.json')\n",
    "            with open(dataset_json_name, 'w') as ff:\n",
    "                json.dump(data, ff,sort_keys=False, indent=4)"
   ]
  },
  {
   "cell_type": "markdown",
   "metadata": {},
   "source": [
    "# File check"
   ]
  },
  {
   "cell_type": "code",
   "execution_count": 65,
   "metadata": {},
   "outputs": [],
   "source": [
    "import filecmp"
   ]
  },
  {
   "cell_type": "code",
   "execution_count": 66,
   "metadata": {},
   "outputs": [],
   "source": [
    "bids = ('/data/EFAT/EFAT_RawData/ex/sub-004/func/sub-004_task-EFAT_run-02_bold.nii')\n",
    "origin = ('/data/EFAT/EFAT_RawData/ex2/RDHC004/RDHC004A_07_EFATS3.nii')"
   ]
  },
  {
   "cell_type": "code",
   "execution_count": 67,
   "metadata": {},
   "outputs": [
    {
     "data": {
      "text/plain": [
       "True"
      ]
     },
     "execution_count": 67,
     "metadata": {},
     "output_type": "execute_result"
    }
   ],
   "source": [
    "filecmp.cmp(bids, origin)"
   ]
  }
 ],
 "metadata": {
  "kernelspec": {
   "display_name": "Python 3",
   "language": "python",
   "name": "python3"
  },
  "language_info": {
   "codemirror_mode": {
    "name": "ipython",
    "version": 3
   },
   "file_extension": ".py",
   "mimetype": "text/x-python",
   "name": "python",
   "nbconvert_exporter": "python",
   "pygments_lexer": "ipython3",
   "version": "3.6.5"
  }
 },
 "nbformat": 4,
 "nbformat_minor": 2
}
